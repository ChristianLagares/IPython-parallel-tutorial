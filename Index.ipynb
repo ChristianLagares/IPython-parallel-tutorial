{
 "metadata": {
  "name": "",
  "signature": "sha256:fe857d45ad00b81469a7bec011c58924110d11052b78947a6708989d0927a235"
 },
 "nbformat": 3,
 "nbformat_minor": 0,
 "worksheets": [
  {
   "cells": [
    {
     "cell_type": "markdown",
     "metadata": {},
     "source": [
      "# IPython.parallel\n",
      "\n",
      "## Interactive (parallel) Python\n",
      "\n",
      "https://github.com/minrk/IPython-parallel-tutorial\n",
      "\n",
      "**Min Ragan-Kelley, Fernando Perez**, *Helen Wills Neuroscience Institute, UC Berkeley*\n"
     ]
    },
    {
     "cell_type": "markdown",
     "metadata": {},
     "source": [
      "# Installation and dependencies\n",
      "\n",
      "You will need IPython 2.1, and pyzmq \u2265 13. To use the demo notebooks, you will also need tornado \u2265 2.1. I will also make use of numpy and matplotlib. If you have Canopy or Anaconda, you already have all of these.\n",
      "\n",
      "Quick one-line install for IPython and its dependencies:\n",
      "   \n",
      "    pip install ipython[all]\n",
      "    \n",
      "Or get everything for the tutorial with conda:\n",
      "\n",
      "    conda install anaconda opencv beautiful-soup\n",
      "\n",
      "Get the [tutorial notebooks](https://github.com/minrk/IPython-parallel-tutorial): https://github.com/minrk/IPython-parallel-tutorial\n",
      "\n",
      "Optional dependencies: I will use [NetworkX](http://networkx.lanl.gov/)\n",
      "for one demo, and OpenCV for another (requires `python-opencv` and `opencv-doc`), and possibly `scikit-image`, but they are not critical. OpenCV is available from conda (`conda install opencv`), and is in Canopy, but not Canopy Express. NetworkX is in Anaconda and Canopy.\n",
      "\n",
      "For the image-related demos, all you need are some images on your computer. The notebooks will try to fetch images from Wikimedia Commons, but since the conference networks are untrustworty, I have [bundled some images here](http://s3.amazonaws.com/pydata-ipython/images.zip)."
     ]
    },
    {
     "cell_type": "markdown",
     "metadata": {},
     "source": [
      "## Outline\n",
      "- [Some Background](Background.ipynb)\n",
      "- [Motivating Example](Parallel%20image%20processing.ipynb)\n",
      "- [Overview](Overview.ipynb)\n",
      "- [Tutorial](tutorial)\n",
      "  - [Remote Execution](tutorial/Remote%20Execution.ipynb)\n",
      "  - [Multiplexing](tutorial/Multiplexing.ipynb)\n",
      "  - [Load-Balancing](tutorial/Load-Balancing.ipynb)\n",
      "  - [Both!](tutorial/All%20Together.ipynb)\n",
      "  - [Parallel Magics](tutorial/Parallel%20Magics.ipynb)\n",
      "- [Examples](examples)\n",
      "- [Exercises](exercises)\n"
     ]
    }
   ],
   "metadata": {}
  }
 ]
}