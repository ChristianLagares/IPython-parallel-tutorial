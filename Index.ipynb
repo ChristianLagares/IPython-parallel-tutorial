{
 "metadata": {
  "name": "",
  "signature": "sha256:6636398377d5d9edcc77f93c1122410c921eef520d3dc2aa2b8504b1d71531b3"
 },
 "nbformat": 3,
 "nbformat_minor": 0,
 "worksheets": [
  {
   "cells": [
    {
     "cell_type": "markdown",
     "metadata": {},
     "source": [
      "# IPython.parallel\n",
      "\n",
      "## Interactive (parallel) Python\n",
      "\n",
      "https://github.com/minrk/IPython-parallel-tutorial\n",
      "\n",
      "**Min Ragan-Kelley, Fernando Perez**, *Helen Wills Neuroscience Institute, UC Berkeley*\n"
     ]
    },
    {
     "cell_type": "markdown",
     "metadata": {},
     "source": [
      "# Installation and dependencies\n",
      "\n",
      "You will need IPython 2.1, and pyzmq \u2265 13. To use the demo notebooks, you will also need tornado \u2265 2.1. I will also make use of numpy and matplotlib. If you have Canopy or Anaconda, you already have all of these.\n",
      "\n",
      "Quick one-line install for IPython and its dependencies:\n",
      "   \n",
      "    pip install ipython[all]\n",
      "    \n",
      "Or get everything for the tutorial with conda:\n",
      "\n",
      "    conda install anaconda mpi4py\n",
      "\n",
      "For those who prefer pip or otherwise manual package installation, the following packages will be used:\n",
      "\n",
      "ipython[all]\n",
      "numpy\n",
      "matplotlib\n",
      "networkx\n",
      "scikit-image\n",
      "requests\n",
      "beautifulsoup\n",
      "mpi4py\n",
      "\n",
      "\n",
      "Get the [tutorial notebooks](https://github.com/minrk/IPython-parallel-tutorial) from https://github.com/minrk/IPython-parallel-tutorial\n",
      "\n",
      "Optional dependencies: I will use [NetworkX](http://networkx.lanl.gov/)\n",
      "for one demo, and `scikit-image` for another, but they are not critical. Both packages are in in Anaconda and Canopy.\n",
      "\n",
      "For the image-related demos, all you need are some images on your computer. The notebooks will try to fetch images from Wikimedia Commons, but since the conference networks are untrustworty, I have [bundled some images here](http://s3.amazonaws.com/ipython-parallel-data/images.zip)."
     ]
    },
    {
     "cell_type": "markdown",
     "metadata": {},
     "source": [
      "## Outline\n",
      "- [Some Background](Background.ipynb)\n",
      "- [Motivating Example](examples/Parallel%20image%20processing.ipynb)\n",
      "- [Overview](Overview.ipynb)\n",
      "- [Tutorial](tutorial)\n",
      "  - [Remote Execution](tutorial/Remote%20Execution.ipynb)\n",
      "  - [Multiplexing](tutorial/Multiplexing.ipynb)\n",
      "  - [Load-Balancing](tutorial/Load-Balancing.ipynb)\n",
      "  - [Both!](tutorial/All%20Together.ipynb)\n",
      "  - [Parallel Magics](tutorial/Parallel%20Magics.ipynb)\n",
      "- [Examples](examples)\n",
      "- [Exercises](exercises)\n"
     ]
    }
   ],
   "metadata": {}
  }
 ]
}