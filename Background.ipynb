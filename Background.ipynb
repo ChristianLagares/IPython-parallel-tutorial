{
 "metadata": {
  "name": "",
  "signature": "sha256:828ed91194e6044232fcc45dccc0aed608b978ee24bd15d6c63123f984c24d52"
 },
 "nbformat": 3,
 "nbformat_minor": 0,
 "worksheets": [
  {
   "cells": [
    {
     "cell_type": "heading",
     "level": 1,
     "metadata": {
      "slideshow": {
       "slide_type": "skip"
      }
     },
     "source": [
      "Some Background on IPython"
     ]
    },
    {
     "cell_type": "markdown",
     "metadata": {
      "slideshow": {
       "slide_type": "skip"
      }
     },
     "source": [
      "Let's start with some background on what IPython is,\n",
      "then we can talk about what parallel IPython is,\n",
      "and why it makes sense."
     ]
    },
    {
     "cell_type": "heading",
     "level": 1,
     "metadata": {
      "slideshow": {
       "slide_type": "slide"
      }
     },
     "source": [
      "What is IPython?"
     ]
    },
    {
     "cell_type": "heading",
     "level": 1,
     "metadata": {
      "slideshow": {
       "slide_type": "slide"
      }
     },
     "source": [
      "Level 0: Interactive Python"
     ]
    },
    {
     "cell_type": "code",
     "collapsed": false,
     "input": [
      "def foo():\n",
      "    \"\"\"docstring\"\"\"\n",
      "    return 'hi'\n",
      "foo()"
     ],
     "language": "python",
     "metadata": {},
     "outputs": [
      {
       "metadata": {},
       "output_type": "pyout",
       "prompt_number": 1,
       "text": [
        "'hi'"
       ]
      }
     ],
     "prompt_number": 1
    },
    {
     "cell_type": "code",
     "collapsed": false,
     "input": [
      "def bar():\n",
      "    print 'hi'"
     ],
     "language": "python",
     "metadata": {},
     "outputs": [],
     "prompt_number": 2
    },
    {
     "cell_type": "code",
     "collapsed": false,
     "input": [
      "from __future__ import print_function\n",
      "\n",
      "import time\n",
      "\n",
      "for i in range(10):\n",
      "    time.sleep(0.25)\n",
      "    print(i, end=' ')\n"
     ],
     "language": "python",
     "metadata": {},
     "outputs": [
      {
       "output_type": "stream",
       "stream": "stdout",
       "text": [
        "0 1"
       ]
      },
      {
       "output_type": "stream",
       "stream": "stdout",
       "text": [
        " 2"
       ]
      },
      {
       "output_type": "stream",
       "stream": "stdout",
       "text": [
        " 3"
       ]
      },
      {
       "output_type": "stream",
       "stream": "stdout",
       "text": [
        " 4"
       ]
      },
      {
       "output_type": "stream",
       "stream": "stdout",
       "text": [
        " 5"
       ]
      },
      {
       "output_type": "stream",
       "stream": "stdout",
       "text": [
        " 6"
       ]
      },
      {
       "output_type": "stream",
       "stream": "stdout",
       "text": [
        " 7"
       ]
      },
      {
       "output_type": "stream",
       "stream": "stdout",
       "text": [
        " 8"
       ]
      },
      {
       "output_type": "stream",
       "stream": "stdout",
       "text": [
        " 9"
       ]
      },
      {
       "output_type": "stream",
       "stream": "stdout",
       "text": [
        " "
       ]
      }
     ],
     "prompt_number": 4
    },
    {
     "cell_type": "code",
     "collapsed": false,
     "input": [
      "import numpy as np"
     ],
     "language": "python",
     "metadata": {},
     "outputs": [],
     "prompt_number": 5
    },
    {
     "cell_type": "code",
     "collapsed": false,
     "input": [
      "np."
     ],
     "language": "python",
     "metadata": {},
     "outputs": [
      {
       "metadata": {},
       "output_type": "pyout",
       "prompt_number": 6,
       "text": [
        "<function numpy.core.function_base.linspace>"
       ]
      }
     ],
     "prompt_number": 6
    },
    {
     "cell_type": "code",
     "collapsed": false,
     "input": [
      "import ctypes\n",
      "libc = ctypes.CDLL('libc.dylib')\n",
      "libc.time(-1)"
     ],
     "language": "python",
     "metadata": {},
     "outputs": []
    },
    {
     "cell_type": "code",
     "collapsed": false,
     "input": [
      "print(\"I'm okay!\")"
     ],
     "language": "python",
     "metadata": {},
     "outputs": [
      {
       "output_type": "stream",
       "stream": "stdout",
       "text": [
        "I'm okay!\n"
       ]
      }
     ],
     "prompt_number": 2
    },
    {
     "cell_type": "heading",
     "level": 1,
     "metadata": {
      "slideshow": {
       "slide_type": "slide"
      }
     },
     "source": [
      "Level 1: A bit more than Python"
     ]
    },
    {
     "cell_type": "code",
     "collapsed": false,
     "input": [
      "import numpy as np\n",
      "np.linspace?"
     ],
     "language": "python",
     "metadata": {},
     "outputs": [
      {
       "output_type": "stream",
       "stream": "stdout",
       "text": [
        "\u001b[1;31mType:        \u001b[0mfunction\n",
        "\u001b[1;31mString form: \u001b[0m<function linspace at 0x1048d3c08>\n",
        "\u001b[1;31mFile:        \u001b[0m/Users/minrk/conda/envs/tut/lib/python2.7/site-packages/numpy/core/function_base.py\n",
        "\u001b[1;31mDefinition:  \u001b[0m\u001b[0mnp\u001b[0m\u001b[1;33m.\u001b[0m\u001b[0mlinspace\u001b[0m\u001b[1;33m(\u001b[0m\u001b[0mstart\u001b[0m\u001b[1;33m,\u001b[0m \u001b[0mstop\u001b[0m\u001b[1;33m,\u001b[0m \u001b[0mnum\u001b[0m\u001b[1;33m=\u001b[0m\u001b[1;36m50\u001b[0m\u001b[1;33m,\u001b[0m \u001b[0mendpoint\u001b[0m\u001b[1;33m=\u001b[0m\u001b[0mTrue\u001b[0m\u001b[1;33m,\u001b[0m \u001b[0mretstep\u001b[0m\u001b[1;33m=\u001b[0m\u001b[0mFalse\u001b[0m\u001b[1;33m)\u001b[0m\u001b[1;33m\u001b[0m\u001b[0m\n",
        "\u001b[1;31mDocstring:\u001b[0m\n",
        "Return evenly spaced numbers over a specified interval.\n",
        "\n",
        "Returns `num` evenly spaced samples, calculated over the\n",
        "interval [`start`, `stop` ].\n",
        "\n",
        "The endpoint of the interval can optionally be excluded.\n",
        "\n",
        "Parameters\n",
        "----------\n",
        "start : scalar\n",
        "    The starting value of the sequence.\n",
        "stop : scalar\n",
        "    The end value of the sequence, unless `endpoint` is set to False.\n",
        "    In that case, the sequence consists of all but the last of ``num + 1``\n",
        "    evenly spaced samples, so that `stop` is excluded.  Note that the step\n",
        "    size changes when `endpoint` is False.\n",
        "num : int, optional\n",
        "    Number of samples to generate. Default is 50.\n",
        "endpoint : bool, optional\n",
        "    If True, `stop` is the last sample. Otherwise, it is not included.\n",
        "    Default is True.\n",
        "retstep : bool, optional\n",
        "    If True, return (`samples`, `step`), where `step` is the spacing\n",
        "    between samples.\n",
        "\n",
        "Returns\n",
        "-------\n",
        "samples : ndarray\n",
        "    There are `num` equally spaced samples in the closed interval\n",
        "    ``[start, stop]`` or the half-open interval ``[start, stop)``\n",
        "    (depending on whether `endpoint` is True or False).\n",
        "step : float (only if `retstep` is True)\n",
        "    Size of spacing between samples.\n",
        "\n",
        "\n",
        "See Also\n",
        "--------\n",
        "arange : Similar to `linspace`, but uses a step size (instead of the\n",
        "         number of samples).\n",
        "logspace : Samples uniformly distributed in log space.\n",
        "\n",
        "Examples\n",
        "--------\n",
        ">>> np.linspace(2.0, 3.0, num=5)\n",
        "    array([ 2.  ,  2.25,  2.5 ,  2.75,  3.  ])\n",
        ">>> np.linspace(2.0, 3.0, num=5, endpoint=False)\n",
        "    array([ 2. ,  2.2,  2.4,  2.6,  2.8])\n",
        ">>> np.linspace(2.0, 3.0, num=5, retstep=True)\n",
        "    (array([ 2.  ,  2.25,  2.5 ,  2.75,  3.  ]), 0.25)\n",
        "\n",
        "Graphical illustration:\n",
        "\n",
        ">>> import matplotlib.pyplot as plt\n",
        ">>> N = 8\n",
        ">>> y = np.zeros(N)\n",
        ">>> x1 = np.linspace(0, 10, N, endpoint=True)\n",
        ">>> x2 = np.linspace(0, 10, N, endpoint=False)\n",
        ">>> plt.plot(x1, y, 'o')\n",
        "[<matplotlib.lines.Line2D object at 0x...>]\n",
        ">>> plt.plot(x2, y + 0.5, 'o')\n",
        "[<matplotlib.lines.Line2D object at 0x...>]\n",
        ">>> plt.ylim([-0.5, 1])\n",
        "(-0.5, 1)\n",
        ">>> plt.show()\n"
       ]
      }
     ],
     "prompt_number": 3
    },
    {
     "cell_type": "heading",
     "level": 2,
     "metadata": {
      "slideshow": {
       "slide_type": "slide"
      }
     },
     "source": [
      "Shell interaction"
     ]
    },
    {
     "cell_type": "code",
     "collapsed": false,
     "input": [
      "!date"
     ],
     "language": "python",
     "metadata": {},
     "outputs": [
      {
       "output_type": "stream",
       "stream": "stdout",
       "text": [
        "Sat Jul  5 11:59:02 PDT 2014\r\n"
       ]
      }
     ],
     "prompt_number": 4
    },
    {
     "cell_type": "code",
     "collapsed": false,
     "input": [
      "ls"
     ],
     "language": "python",
     "metadata": {},
     "outputs": [
      {
       "output_type": "stream",
       "stream": "stdout",
       "text": [
        "10_Basic_Interface.ipynb                              Performance.ipynb                                     haarcascade_frontalface_default.xml\r\n",
        "20_Multiplexing.ipynb                                 README.md                                             \u001b[34mimages\u001b[m\u001b[m/\r\n",
        "21_LoadBalancing.ipynb                                Summary.ipynb                                         mediawiki.sqlite\r\n",
        "Background.ipynb                                      Untitled0.ipynb                                       memmap.ipynb\r\n",
        "DAG Dependencies.ipynb                                Using DirectView and LoadBalancedView Together.ipynb  myscript.py\r\n",
        "Exercise - Monte Carlo \u03c0.ipynb                        Wikipedia 2.ipynb                                     ngrams.ipynb\r\n",
        "Exercise - Remote Iteration.ipynb                     Wikipedia.ipynb                                       outline.md\r\n",
        "Index.ipynb                                           check_env.py                                          scikit learn.ipynb\r\n",
        "MC Options.ipynb                                      eventful_dict.py                                      \u001b[34msoln\u001b[m\u001b[m/\r\n",
        "MPI Broadcast.ipynb                                   eventful_dict.pyc                                     widget_forcedirectedgraph.js\r\n",
        "Overview and getting started.ipynb                    eventful_graph.py                                     widget_forcedirectedgraph.py\r\n",
        "Parallel Magics.ipynb                                 eventful_graph.pyc                                    widget_forcedirectedgraph.pyc\r\n",
        "Parallel face detection (no download).ipynb           \u001b[34mexamples\u001b[m\u001b[m/                                             wikimedia.ipynb\r\n",
        "Parallel face detection.ipynb                         \u001b[34mfigs\u001b[m\u001b[m/\r\n",
        "Parallel image processing.ipynb                       flickr.sqlite\r\n"
       ]
      }
     ],
     "prompt_number": 5
    },
    {
     "cell_type": "code",
     "collapsed": false,
     "input": [
      "files = !ls"
     ],
     "language": "python",
     "metadata": {},
     "outputs": [],
     "prompt_number": 6
    },
    {
     "cell_type": "code",
     "collapsed": false,
     "input": [
      "for f in files:\n",
      "    print(repr(f))"
     ],
     "language": "python",
     "metadata": {},
     "outputs": [
      {
       "output_type": "stream",
       "stream": "stdout",
       "text": [
        "'10_Basic_Interface.ipynb'\n",
        "'20_Multiplexing.ipynb'\n",
        "'21_LoadBalancing.ipynb'\n",
        "'Background.ipynb'\n",
        "'DAG Dependencies.ipynb'\n",
        "'Exercise - Monte Carlo \\xcf\\x80.ipynb'\n",
        "'Exercise - Remote Iteration.ipynb'\n",
        "'Index.ipynb'\n",
        "'MC Options.ipynb'\n",
        "'MPI Broadcast.ipynb'\n",
        "'Overview and getting started.ipynb'\n",
        "'Parallel Magics.ipynb'\n",
        "'Parallel face detection (no download).ipynb'\n",
        "'Parallel face detection.ipynb'\n",
        "'Parallel image processing.ipynb'\n",
        "'Performance.ipynb'\n",
        "'README.md'\n",
        "'Summary.ipynb'\n",
        "'Untitled0.ipynb'\n",
        "'Using DirectView and LoadBalancedView Together.ipynb'\n",
        "'Wikipedia 2.ipynb'\n",
        "'Wikipedia.ipynb'\n",
        "'check_env.py'\n",
        "'eventful_dict.py'\n",
        "'eventful_dict.pyc'\n",
        "'eventful_graph.py'\n",
        "'eventful_graph.pyc'\n",
        "'examples'\n",
        "'figs'\n",
        "'flickr.sqlite'\n",
        "'haarcascade_frontalface_default.xml'\n",
        "'images'\n",
        "'mediawiki.sqlite'\n",
        "'memmap.ipynb'\n",
        "'myscript.py'\n",
        "'ngrams.ipynb'\n",
        "'outline.md'\n",
        "'scikit learn.ipynb'\n",
        "'soln'\n",
        "'widget_forcedirectedgraph.js'\n",
        "'widget_forcedirectedgraph.py'\n",
        "'widget_forcedirectedgraph.pyc'\n",
        "'wikimedia.ipynb'\n"
       ]
      }
     ],
     "prompt_number": 8
    },
    {
     "cell_type": "heading",
     "level": 2,
     "metadata": {
      "slideshow": {
       "slide_type": "slide"
      }
     },
     "source": [
      "Extending Python with `%magics`"
     ]
    },
    {
     "cell_type": "code",
     "collapsed": false,
     "input": [
      "biglist = range(1000000)\n",
      "bigset = set(biglist)\n",
      "\n",
      "%timeit biglist[-1] in biglist\n",
      "%timeit biglist[-1] in bigset"
     ],
     "language": "python",
     "metadata": {},
     "outputs": [
      {
       "output_type": "stream",
       "stream": "stdout",
       "text": [
        "10 loops, best of 3: 21.2 ms per loop\n",
        "10000000 loops, best of 3: 124 ns per loop"
       ]
      },
      {
       "output_type": "stream",
       "stream": "stdout",
       "text": [
        "\n"
       ]
      }
     ],
     "prompt_number": 9
    },
    {
     "cell_type": "code",
     "collapsed": false,
     "input": [
      "def inner(x):\n",
      "    return 1/x\n",
      "\n",
      "def outer(y):\n",
      "    return inner(1-y)\n",
      "\n",
      "z = 2\n",
      "outer(-z + 3)"
     ],
     "language": "python",
     "metadata": {},
     "outputs": [
      {
       "ename": "ZeroDivisionError",
       "evalue": "integer division or modulo by zero",
       "output_type": "pyerr",
       "traceback": [
        "\u001b[1;31m---------------------------------------------------------------------------\u001b[0m\n\u001b[1;31mZeroDivisionError\u001b[0m                         Traceback (most recent call last)",
        "\u001b[1;32m<ipython-input-10-937b301027bf>\u001b[0m in \u001b[0;36m<module>\u001b[1;34m()\u001b[0m\n\u001b[0;32m      6\u001b[0m \u001b[1;33m\u001b[0m\u001b[0m\n\u001b[0;32m      7\u001b[0m \u001b[0mz\u001b[0m \u001b[1;33m=\u001b[0m \u001b[1;36m2\u001b[0m\u001b[1;33m\u001b[0m\u001b[0m\n\u001b[1;32m----> 8\u001b[1;33m \u001b[0mouter\u001b[0m\u001b[1;33m(\u001b[0m\u001b[1;33m-\u001b[0m\u001b[0mz\u001b[0m \u001b[1;33m+\u001b[0m \u001b[1;36m3\u001b[0m\u001b[1;33m)\u001b[0m\u001b[1;33m\u001b[0m\u001b[0m\n\u001b[0m",
        "\u001b[1;32m<ipython-input-10-937b301027bf>\u001b[0m in \u001b[0;36mouter\u001b[1;34m(y)\u001b[0m\n\u001b[0;32m      3\u001b[0m \u001b[1;33m\u001b[0m\u001b[0m\n\u001b[0;32m      4\u001b[0m \u001b[1;32mdef\u001b[0m \u001b[0mouter\u001b[0m\u001b[1;33m(\u001b[0m\u001b[0my\u001b[0m\u001b[1;33m)\u001b[0m\u001b[1;33m:\u001b[0m\u001b[1;33m\u001b[0m\u001b[0m\n\u001b[1;32m----> 5\u001b[1;33m     \u001b[1;32mreturn\u001b[0m \u001b[0minner\u001b[0m\u001b[1;33m(\u001b[0m\u001b[1;36m1\u001b[0m\u001b[1;33m-\u001b[0m\u001b[0my\u001b[0m\u001b[1;33m)\u001b[0m\u001b[1;33m\u001b[0m\u001b[0m\n\u001b[0m\u001b[0;32m      6\u001b[0m \u001b[1;33m\u001b[0m\u001b[0m\n\u001b[0;32m      7\u001b[0m \u001b[0mz\u001b[0m \u001b[1;33m=\u001b[0m \u001b[1;36m2\u001b[0m\u001b[1;33m\u001b[0m\u001b[0m\n",
        "\u001b[1;32m<ipython-input-10-937b301027bf>\u001b[0m in \u001b[0;36minner\u001b[1;34m(x)\u001b[0m\n\u001b[0;32m      1\u001b[0m \u001b[1;32mdef\u001b[0m \u001b[0minner\u001b[0m\u001b[1;33m(\u001b[0m\u001b[0mx\u001b[0m\u001b[1;33m)\u001b[0m\u001b[1;33m:\u001b[0m\u001b[1;33m\u001b[0m\u001b[0m\n\u001b[1;32m----> 2\u001b[1;33m     \u001b[1;32mreturn\u001b[0m \u001b[1;36m1\u001b[0m\u001b[1;33m/\u001b[0m\u001b[0mx\u001b[0m\u001b[1;33m\u001b[0m\u001b[0m\n\u001b[0m\u001b[0;32m      3\u001b[0m \u001b[1;33m\u001b[0m\u001b[0m\n\u001b[0;32m      4\u001b[0m \u001b[1;32mdef\u001b[0m \u001b[0mouter\u001b[0m\u001b[1;33m(\u001b[0m\u001b[0my\u001b[0m\u001b[1;33m)\u001b[0m\u001b[1;33m:\u001b[0m\u001b[1;33m\u001b[0m\u001b[0m\n\u001b[0;32m      5\u001b[0m     \u001b[1;32mreturn\u001b[0m \u001b[0minner\u001b[0m\u001b[1;33m(\u001b[0m\u001b[1;36m1\u001b[0m\u001b[1;33m-\u001b[0m\u001b[0my\u001b[0m\u001b[1;33m)\u001b[0m\u001b[1;33m\u001b[0m\u001b[0m\n",
        "\u001b[1;31mZeroDivisionError\u001b[0m: integer division or modulo by zero"
       ]
      }
     ],
     "prompt_number": 10
    },
    {
     "cell_type": "code",
     "collapsed": false,
     "input": [
      "%debug"
     ],
     "language": "python",
     "metadata": {},
     "outputs": [
      {
       "output_type": "stream",
       "stream": "stdout",
       "text": [
        "> \u001b[1;32m<ipython-input-10-937b301027bf>\u001b[0m(2)\u001b[0;36minner\u001b[1;34m()\u001b[0m\n",
        "\u001b[1;32m      1 \u001b[1;33m\u001b[1;32mdef\u001b[0m \u001b[0minner\u001b[0m\u001b[1;33m(\u001b[0m\u001b[0mx\u001b[0m\u001b[1;33m)\u001b[0m\u001b[1;33m:\u001b[0m\u001b[1;33m\u001b[0m\u001b[0m\n",
        "\u001b[0m\u001b[1;32m----> 2 \u001b[1;33m    \u001b[1;32mreturn\u001b[0m \u001b[1;36m1\u001b[0m\u001b[1;33m/\u001b[0m\u001b[0mx\u001b[0m\u001b[1;33m\u001b[0m\u001b[0m\n",
        "\u001b[0m\u001b[1;32m      3 \u001b[1;33m\u001b[1;33m\u001b[0m\u001b[0m\n",
        "\u001b[0m\n"
       ]
      },
      {
       "name": "stdout",
       "output_type": "stream",
       "stream": "stdout",
       "text": [
        "ipdb> up\n"
       ]
      },
      {
       "output_type": "stream",
       "stream": "stdout",
       "text": [
        "> \u001b[1;32m<ipython-input-10-937b301027bf>\u001b[0m(5)\u001b[0;36mouter\u001b[1;34m()\u001b[0m\n",
        "\u001b[1;32m      4 \u001b[1;33m\u001b[1;32mdef\u001b[0m \u001b[0mouter\u001b[0m\u001b[1;33m(\u001b[0m\u001b[0my\u001b[0m\u001b[1;33m)\u001b[0m\u001b[1;33m:\u001b[0m\u001b[1;33m\u001b[0m\u001b[0m\n",
        "\u001b[0m\u001b[1;32m----> 5 \u001b[1;33m    \u001b[1;32mreturn\u001b[0m \u001b[0minner\u001b[0m\u001b[1;33m(\u001b[0m\u001b[1;36m1\u001b[0m\u001b[1;33m-\u001b[0m\u001b[0my\u001b[0m\u001b[1;33m)\u001b[0m\u001b[1;33m\u001b[0m\u001b[0m\n",
        "\u001b[0m\u001b[1;32m      6 \u001b[1;33m\u001b[1;33m\u001b[0m\u001b[0m\n",
        "\u001b[0m\n"
       ]
      },
      {
       "name": "stdout",
       "output_type": "stream",
       "stream": "stdout",
       "text": [
        "ipdb> down\n"
       ]
      },
      {
       "output_type": "stream",
       "stream": "stdout",
       "text": [
        "> \u001b[1;32m<ipython-input-10-937b301027bf>\u001b[0m(2)\u001b[0;36minner\u001b[1;34m()\u001b[0m\n",
        "\u001b[1;32m      1 \u001b[1;33m\u001b[1;32mdef\u001b[0m \u001b[0minner\u001b[0m\u001b[1;33m(\u001b[0m\u001b[0mx\u001b[0m\u001b[1;33m)\u001b[0m\u001b[1;33m:\u001b[0m\u001b[1;33m\u001b[0m\u001b[0m\n",
        "\u001b[0m\u001b[1;32m----> 2 \u001b[1;33m    \u001b[1;32mreturn\u001b[0m \u001b[1;36m1\u001b[0m\u001b[1;33m/\u001b[0m\u001b[0mx\u001b[0m\u001b[1;33m\u001b[0m\u001b[0m\n",
        "\u001b[0m\u001b[1;32m      3 \u001b[1;33m\u001b[1;33m\u001b[0m\u001b[0m\n",
        "\u001b[0m\n"
       ]
      },
      {
       "name": "stdout",
       "output_type": "stream",
       "stream": "stdout",
       "text": [
        "ipdb> print x\n"
       ]
      },
      {
       "output_type": "stream",
       "stream": "stdout",
       "text": [
        "0\n"
       ]
      },
      {
       "name": "stdout",
       "output_type": "stream",
       "stream": "stdout",
       "text": [
        "ipdb> down\n"
       ]
      },
      {
       "output_type": "stream",
       "stream": "stdout",
       "text": [
        "*** Newest frame\n"
       ]
      },
      {
       "name": "stdout",
       "output_type": "stream",
       "stream": "stdout",
       "text": [
        "ipdb> bt\n"
       ]
      },
      {
       "output_type": "stream",
       "stream": "stdout",
       "text": [
        "  \u001b[1;32m<ipython-input-10-937b301027bf>\u001b[0m(8)\u001b[0;36m<module>\u001b[1;34m()\u001b[0m\n",
        "\u001b[0;32m      4 \u001b[0m\u001b[1;32mdef\u001b[0m \u001b[0mouter\u001b[0m\u001b[1;33m(\u001b[0m\u001b[0my\u001b[0m\u001b[1;33m)\u001b[0m\u001b[1;33m:\u001b[0m\u001b[1;33m\u001b[0m\u001b[0m\n",
        "\u001b[0;32m      5 \u001b[0m    \u001b[1;32mreturn\u001b[0m \u001b[0minner\u001b[0m\u001b[1;33m(\u001b[0m\u001b[1;36m1\u001b[0m\u001b[1;33m-\u001b[0m\u001b[0my\u001b[0m\u001b[1;33m)\u001b[0m\u001b[1;33m\u001b[0m\u001b[0m\n",
        "\u001b[0;32m      6 \u001b[0m\u001b[1;33m\u001b[0m\u001b[0m\n",
        "\u001b[0;32m      7 \u001b[0m\u001b[0mz\u001b[0m \u001b[1;33m=\u001b[0m \u001b[1;36m2\u001b[0m\u001b[1;33m\u001b[0m\u001b[0m\n",
        "\u001b[1;32m----> 8 \u001b[1;33m\u001b[0mouter\u001b[0m\u001b[1;33m(\u001b[0m\u001b[1;33m-\u001b[0m\u001b[0mz\u001b[0m \u001b[1;33m+\u001b[0m \u001b[1;36m3\u001b[0m\u001b[1;33m)\u001b[0m\u001b[1;33m\u001b[0m\u001b[0m\n",
        "\u001b[0m\n",
        "  \u001b[1;32m<ipython-input-10-937b301027bf>\u001b[0m(5)\u001b[0;36mouter\u001b[1;34m()\u001b[0m\n",
        "\u001b[0;32m      3 \u001b[0m\u001b[1;33m\u001b[0m\u001b[0m\n",
        "\u001b[0;32m      4 \u001b[0m\u001b[1;32mdef\u001b[0m \u001b[0mouter\u001b[0m\u001b[1;33m(\u001b[0m\u001b[0my\u001b[0m\u001b[1;33m)\u001b[0m\u001b[1;33m:\u001b[0m\u001b[1;33m\u001b[0m\u001b[0m\n",
        "\u001b[1;32m----> 5 \u001b[1;33m    \u001b[1;32mreturn\u001b[0m \u001b[0minner\u001b[0m\u001b[1;33m(\u001b[0m\u001b[1;36m1\u001b[0m\u001b[1;33m-\u001b[0m\u001b[0my\u001b[0m\u001b[1;33m)\u001b[0m\u001b[1;33m\u001b[0m\u001b[0m\n",
        "\u001b[0m\u001b[0;32m      6 \u001b[0m\u001b[1;33m\u001b[0m\u001b[0m\n",
        "\u001b[0;32m      7 \u001b[0m\u001b[0mz\u001b[0m \u001b[1;33m=\u001b[0m \u001b[1;36m2\u001b[0m\u001b[1;33m\u001b[0m\u001b[0m\n",
        "\n",
        "> \u001b[1;32m<ipython-input-10-937b301027bf>\u001b[0m(2)\u001b[0;36minner\u001b[1;34m()\u001b[0m\n",
        "\u001b[1;32m      1 \u001b[1;33m\u001b[1;32mdef\u001b[0m \u001b[0minner\u001b[0m\u001b[1;33m(\u001b[0m\u001b[0mx\u001b[0m\u001b[1;33m)\u001b[0m\u001b[1;33m:\u001b[0m\u001b[1;33m\u001b[0m\u001b[0m\n",
        "\u001b[0m\u001b[1;32m----> 2 \u001b[1;33m    \u001b[1;32mreturn\u001b[0m \u001b[1;36m1\u001b[0m\u001b[1;33m/\u001b[0m\u001b[0mx\u001b[0m\u001b[1;33m\u001b[0m\u001b[0m\n",
        "\u001b[0m\u001b[1;32m      3 \u001b[1;33m\u001b[1;33m\u001b[0m\u001b[0m\n",
        "\u001b[0m\u001b[1;32m      4 \u001b[1;33m\u001b[1;32mdef\u001b[0m \u001b[0mouter\u001b[0m\u001b[1;33m(\u001b[0m\u001b[0my\u001b[0m\u001b[1;33m)\u001b[0m\u001b[1;33m:\u001b[0m\u001b[1;33m\u001b[0m\u001b[0m\n",
        "\u001b[0m\u001b[1;32m      5 \u001b[1;33m    \u001b[1;32mreturn\u001b[0m \u001b[0minner\u001b[0m\u001b[1;33m(\u001b[0m\u001b[1;36m1\u001b[0m\u001b[1;33m-\u001b[0m\u001b[0my\u001b[0m\u001b[1;33m)\u001b[0m\u001b[1;33m\u001b[0m\u001b[0m\n",
        "\u001b[0m\n"
       ]
      },
      {
       "name": "stdout",
       "output_type": "stream",
       "stream": "stdout",
       "text": [
        "ipdb> exit\n"
       ]
      }
     ],
     "prompt_number": 11
    },
    {
     "cell_type": "code",
     "collapsed": false,
     "input": [
      "%lsmagic?"
     ],
     "language": "python",
     "metadata": {},
     "outputs": [
      {
       "json": [
        "{\"cell\": {\"prun\": \"ExecutionMagics\", \"file\": \"Other\", \"!\": \"OSMagics\", \"capture\": \"ExecutionMagics\", \"timeit\": \"ExecutionMagics\", \"script\": \"ScriptMagics\", \"pypy\": \"Other\", \"system\": \"OSMagics\", \"perl\": \"Other\", \"HTML\": \"Other\", \"bash\": \"Other\", \"python\": \"Other\", \"SVG\": \"Other\", \"javascript\": \"DisplayMagics\", \"writefile\": \"OSMagics\", \"ruby\": \"Other\", \"python3\": \"Other\", \"python2\": \"Other\", \"latex\": \"DisplayMagics\", \"sx\": \"OSMagics\", \"svg\": \"DisplayMagics\", \"html\": \"DisplayMagics\", \"sh\": \"Other\", \"time\": \"ExecutionMagics\", \"debug\": \"ExecutionMagics\"}, \"line\": {\"psource\": \"NamespaceMagics\", \"logstart\": \"LoggingMagics\", \"popd\": \"OSMagics\", \"loadpy\": \"CodeMagics\", \"install_ext\": \"ExtensionMagics\", \"colors\": \"BasicMagics\", \"who_ls\": \"NamespaceMagics\", \"lf\": \"Other\", \"install_profiles\": \"DeprecatedMagics\", \"ll\": \"Other\", \"pprint\": \"BasicMagics\", \"lk\": \"Other\", \"ls\": \"Other\", \"save\": \"CodeMagics\", \"tb\": \"ExecutionMagics\", \"lx\": \"Other\", \"pylab\": \"PylabMagics\", \"killbgscripts\": \"ScriptMagics\", \"quickref\": \"BasicMagics\", \"magic\": \"BasicMagics\", \"dhist\": \"OSMagics\", \"edit\": \"KernelMagics\", \"logstop\": \"LoggingMagics\", \"gui\": \"BasicMagics\", \"alias_magic\": \"BasicMagics\", \"debug\": \"ExecutionMagics\", \"page\": \"BasicMagics\", \"logstate\": \"LoggingMagics\", \"ed\": \"Other\", \"pushd\": \"OSMagics\", \"timeit\": \"ExecutionMagics\", \"rehashx\": \"OSMagics\", \"hist\": \"Other\", \"qtconsole\": \"KernelMagics\", \"rm\": \"Other\", \"dirs\": \"OSMagics\", \"run\": \"ExecutionMagics\", \"reset_selective\": \"NamespaceMagics\", \"rep\": \"Other\", \"pinfo2\": \"NamespaceMagics\", \"matplotlib\": \"PylabMagics\", \"automagic\": \"AutoMagics\", \"doctest_mode\": \"KernelMagics\", \"logoff\": \"LoggingMagics\", \"reload_ext\": \"ExtensionMagics\", \"pdb\": \"ExecutionMagics\", \"load\": \"CodeMagics\", \"lsmagic\": \"BasicMagics\", \"autosave\": \"KernelMagics\", \"cd\": \"OSMagics\", \"pastebin\": \"CodeMagics\", \"prun\": \"ExecutionMagics\", \"cp\": \"Other\", \"autocall\": \"AutoMagics\", \"bookmark\": \"OSMagics\", \"connect_info\": \"KernelMagics\", \"mkdir\": \"Other\", \"system\": \"OSMagics\", \"whos\": \"NamespaceMagics\", \"rmdir\": \"Other\", \"toc\": \"TimerMagics\", \"unload_ext\": \"ExtensionMagics\", \"store\": \"StoreMagics\", \"more\": \"KernelMagics\", \"pdef\": \"NamespaceMagics\", \"precision\": \"BasicMagics\", \"pinfo\": \"NamespaceMagics\", \"pwd\": \"OSMagics\", \"psearch\": \"NamespaceMagics\", \"reset\": \"NamespaceMagics\", \"recall\": \"HistoryMagics\", \"xdel\": \"NamespaceMagics\", \"xmode\": \"BasicMagics\", \"cat\": \"Other\", \"mv\": \"Other\", \"rerun\": \"HistoryMagics\", \"logon\": \"LoggingMagics\", \"history\": \"HistoryMagics\", \"pycat\": \"OSMagics\", \"unalias\": \"OSMagics\", \"namespace\": \"Other\", \"install_default_config\": \"DeprecatedMagics\", \"env\": \"OSMagics\", \"load_ext\": \"ExtensionMagics\", \"config\": \"ConfigMagics\", \"tic\": \"TimerMagics\", \"profile\": \"BasicMagics\", \"pfile\": \"NamespaceMagics\", \"less\": \"KernelMagics\", \"who\": \"NamespaceMagics\", \"notebook\": \"BasicMagics\", \"man\": \"KernelMagics\", \"sx\": \"OSMagics\", \"macro\": \"ExecutionMagics\", \"clear\": \"KernelMagics\", \"alias\": \"OSMagics\", \"time\": \"ExecutionMagics\", \"sc\": \"OSMagics\", \"ldir\": \"Other\", \"pdoc\": \"NamespaceMagics\"}}"
       ],
       "metadata": {},
       "output_type": "pyout",
       "prompt_number": 14,
       "text": [
        "Available line magics:\n",
        "%alias  %alias_magic  %autocall  %automagic  %autosave  %bookmark  %cat  %cd  %clear  %colors  %config  %connect_info  %cp  %debug  %dhist  %dirs  %doctest_mode  %ed  %edit  %env  %gui  %hist  %history  %install_default_config  %install_ext  %install_profiles  %killbgscripts  %ldir  %less  %lf  %lk  %ll  %load  %load_ext  %loadpy  %logoff  %logon  %logstart  %logstate  %logstop  %ls  %lsmagic  %lx  %macro  %magic  %man  %matplotlib  %mkdir  %more  %mv  %namespace  %notebook  %page  %pastebin  %pdb  %pdef  %pdoc  %pfile  %pinfo  %pinfo2  %popd  %pprint  %precision  %profile  %prun  %psearch  %psource  %pushd  %pwd  %pycat  %pylab  %qtconsole  %quickref  %recall  %rehashx  %reload_ext  %rep  %rerun  %reset  %reset_selective  %rm  %rmdir  %run  %save  %sc  %store  %sx  %system  %tb  %tic  %time  %timeit  %toc  %unalias  %unload_ext  %who  %who_ls  %whos  %xdel  %xmode\n",
        "\n",
        "Available cell magics:\n",
        "%%!  %%HTML  %%SVG  %%bash  %%capture  %%debug  %%file  %%html  %%javascript  %%latex  %%perl  %%prun  %%pypy  %%python  %%python2  %%python3  %%ruby  %%script  %%sh  %%svg  %%sx  %%system  %%time  %%timeit  %%writefile\n",
        "\n",
        "Automagic is ON, % prefix IS NOT needed for line magics."
       ]
      }
     ],
     "prompt_number": 14
    },
    {
     "cell_type": "heading",
     "level": 1,
     "metadata": {
      "slideshow": {
       "slide_type": "slide"
      }
     },
     "source": [
      "Level 3: A bit more than the Terminal"
     ]
    },
    {
     "cell_type": "heading",
     "level": 2,
     "metadata": {
      "slideshow": {
       "slide_type": "slide"
      }
     },
     "source": [
      "Rich Display"
     ]
    },
    {
     "cell_type": "code",
     "collapsed": false,
     "input": [
      "%matplotlib inline\n",
      "import numpy as np\n",
      "import matplotlib.pyplot as plt\n",
      "from scipy.special import jn"
     ],
     "language": "python",
     "metadata": {},
     "outputs": [],
     "prompt_number": 15
    },
    {
     "cell_type": "code",
     "collapsed": false,
     "input": [
      "x = np.linspace(0,10)\n",
      "for n in range(5):\n",
      "    plt.plot(x, jn(n,x))"
     ],
     "language": "python",
     "metadata": {},
     "outputs": [
      {
       "metadata": {
        "png": {
         "height": 374,
         "width": 606
        }
       },
       "output_type": "display_data",
       "png": "[encoded data removed]",
       "text": [
        "<matplotlib.figure.Figure at 0x10c059dd0>"
       ]
      }
     ],
     "prompt_number": 16
    },
    {
     "cell_type": "code",
     "collapsed": false,
     "input": [
      "%%latex\n",
      "\\begin{eqnarray}\n",
      "\\nabla \\times \\vec{\\mathbf{B}} &\n",
      "    - \\frac{1}{c} \\frac{\\partial\\vec{\\mathbf{E}}}{\\partial t} \n",
      "    & = & \\frac{4 \\pi}{c} \\vec{\\mathbf{j}} \\\\\n",
      "\\nabla \\cdot \\vec{\\mathbf{E}} && = & 4 \\pi \\rho \\\\\n",
      "\\nabla \\times \\vec{\\mathbf{E}} &\n",
      "    + \\frac{1}{c} \\frac{\\partial\\vec{\\mathbf{B}}}{\\partial t}\n",
      "    & = & \\vec{\\mathbf{0}} \\\\\n",
      "\\nabla \\cdot \\vec{\\mathbf{B}} && = & 0 \n",
      "\\end{eqnarray}\n"
     ],
     "language": "python",
     "metadata": {},
     "outputs": [
      {
       "latex": [
        "\\begin{eqnarray}\n",
        "\\nabla \\times \\vec{\\mathbf{B}} &\n",
        "    - \\frac{1}{c} \\frac{\\partial\\vec{\\mathbf{E}}}{\\partial t} \n",
        "    & = & \\frac{4 \\pi}{c} \\vec{\\mathbf{j}} \\\\\n",
        "\\nabla \\cdot \\vec{\\mathbf{E}} && = & 4 \\pi \\rho \\\\\n",
        "\\nabla \\times \\vec{\\mathbf{E}} &\n",
        "    + \\frac{1}{c} \\frac{\\partial\\vec{\\mathbf{B}}}{\\partial t}\n",
        "    & = & \\vec{\\mathbf{0}} \\\\\n",
        "\\nabla \\cdot \\vec{\\mathbf{B}} && = & 0 \n",
        "\\end{eqnarray}"
       ],
       "metadata": {},
       "output_type": "display_data",
       "text": [
        "<IPython.core.display.Latex at 0x104a8db90>"
       ]
      }
     ],
     "prompt_number": 17
    },
    {
     "cell_type": "code",
     "collapsed": false,
     "input": [
      "import sympy\n",
      "sympy.init_printing(use_latex='mathjax')\n",
      "x = sympy.symbols('x')\n",
      "expr = x**10-1\n",
      "expr"
     ],
     "language": "python",
     "metadata": {},
     "outputs": [
      {
       "latex": [
        "$$x^{10} - 1$$"
       ],
       "metadata": {},
       "output_type": "pyout",
       "prompt_number": 21,
       "text": [
        " 10    \n",
        "x   - 1"
       ]
      }
     ],
     "prompt_number": 21
    },
    {
     "cell_type": "code",
     "collapsed": false,
     "input": [
      "sympy.factor(expr)"
     ],
     "language": "python",
     "metadata": {},
     "outputs": [
      {
       "latex": [
        "$$\\left(x - 1\\right) \\left(x + 1\\right) \\left(x^{4} - x^{3} + x^{2} - x + 1\\right) \\left(x^{4} + x^{3} + x^{2} + x + 1\\right)$$"
       ],
       "metadata": {},
       "output_type": "pyout",
       "prompt_number": 22,
       "text": [
        "                \u239b 4    3    2        \u239e \u239b 4    3    2        \u239e\n",
        "(x - 1)\u22c5(x + 1)\u22c5\u239dx  - x  + x  - x + 1\u23a0\u22c5\u239dx  + x  + x  + x + 1\u23a0"
       ]
      }
     ],
     "prompt_number": 22
    },
    {
     "cell_type": "code",
     "collapsed": false,
     "input": [
      "from IPython.display import display\n",
      "from IPython.html.widgets import interact\n",
      "\n",
      "@interact\n",
      "def factorit(n=10):\n",
      "    display(sympy.factor(x**n-1))\n",
      "    "
     ],
     "language": "python",
     "metadata": {},
     "outputs": [
      {
       "latex": [
        "$$- \\frac{1}{x^{4}} \\left(x - 1\\right) \\left(x + 1\\right) \\left(x^{2} + 1\\right)$$"
       ],
       "metadata": {},
       "output_type": "display_data",
       "text": [
        "                 \u239b 2    \u239e \n",
        "-(x - 1)\u22c5(x + 1)\u22c5\u239dx  + 1\u23a0 \n",
        "\u2500\u2500\u2500\u2500\u2500\u2500\u2500\u2500\u2500\u2500\u2500\u2500\u2500\u2500\u2500\u2500\u2500\u2500\u2500\u2500\u2500\u2500\u2500\u2500\u2500\u2500\n",
        "             4            \n",
        "            x             "
       ]
      }
     ],
     "prompt_number": 23
    },
    {
     "cell_type": "code",
     "collapsed": false,
     "input": [
      "from IPython.display import Image, YouTubeVideo\n",
      "Image(\"figs/darts.png\")"
     ],
     "language": "python",
     "metadata": {},
     "outputs": [
      {
       "metadata": {},
       "output_type": "pyout",
       "png": "[encoded data removed]",
       "prompt_number": 25,
       "text": [
        "<IPython.core.display.Image at 0x10d714090>"
       ]
      }
     ],
     "prompt_number": 25
    },
    {
     "cell_type": "code",
     "collapsed": false,
     "input": [
      "YouTubeVideo('1j_HxD4iLn8')"
     ],
     "language": "python",
     "metadata": {},
     "outputs": [
      {
       "html": [
        "\n",
        "        <iframe\n",
        "            width=\"400\"\n",
        "            height=300\"\n",
        "            src=\"https://www.youtube.com/embed/1j_HxD4iLn8\"\n",
        "            frameborder=\"0\"\n",
        "            allowfullscreen\n",
        "        ></iframe>\n",
        "        "
       ],
       "metadata": {},
       "output_type": "pyout",
       "prompt_number": 26,
       "text": [
        "<IPython.lib.display.YouTubeVideo at 0x10d714950>"
       ]
      }
     ],
     "prompt_number": 26
    },
    {
     "cell_type": "heading",
     "level": 2,
     "metadata": {},
     "source": [
      "Bringing it all together"
     ]
    },
    {
     "cell_type": "heading",
     "level": 2,
     "metadata": {},
     "source": [
      "In the Notebook: not just code"
     ]
    },
    {
     "cell_type": "markdown",
     "metadata": {},
     "source": [
      "We also have\n",
      "\n",
      "- *markdown* and\n",
      "- $\\LaTeX$\n",
      "\n",
      "```javascript\n",
      "var foo = $(\".class\");\n",
      "```"
     ]
    },
    {
     "cell_type": "heading",
     "level": 2,
     "metadata": {
      "slideshow": {
       "slide_type": "slide"
      }
     },
     "source": [
      "What is a notebook?"
     ]
    },
    {
     "cell_type": "code",
     "collapsed": false,
     "input": [
      "name = \"Background\"\n",
      "!head -n 100 {name}.ipynb | pygmentize -l json"
     ],
     "language": "python",
     "metadata": {},
     "outputs": [
      {
       "output_type": "stream",
       "stream": "stdout",
       "text": [
        "{\u001b[39;49;00m\r\n",
        " \u001b[39;49;00m\u001b[34;01m\"metadata\"\u001b[39;49;00m:\u001b[39;49;00m \u001b[39;49;00m{\u001b[39;49;00m\r\n",
        "  \u001b[39;49;00m\u001b[34;01m\"name\"\u001b[39;49;00m:\u001b[39;49;00m \u001b[39;49;00m\u001b[33m\"\"\u001b[39;49;00m\r\n",
        " \u001b[39;49;00m}\u001b[39;49;00m,\u001b[39;49;00m\r\n",
        " \u001b[39;49;00m\u001b[34;01m\"nbformat\"\u001b[39;49;00m:\u001b[39;49;00m \u001b[39;49;00m\u001b[34m3\u001b[39;49;00m,\u001b[39;49;00m\r\n",
        " \u001b[39;49;00m\u001b[34;01m\"nbformat_minor\"\u001b[39;49;00m:\u001b[39;49;00m \u001b[39;49;00m\u001b[34m0\u001b[39;49;00m,\u001b[39;49;00m\r\n",
        " \u001b[39;49;00m\u001b[34;01m\"worksheets\"\u001b[39;49;00m:\u001b[39;49;00m \u001b[39;49;00m[\u001b[39;49;00m\r\n",
        "  \u001b[39;49;00m{\u001b[39;49;00m\r\n",
        "   \u001b[39;49;00m\u001b[34;01m\"cells\"\u001b[39;49;00m:\u001b[39;49;00m \u001b[39;49;00m[\u001b[39;49;00m\r\n",
        "    \u001b[39;49;00m{\u001b[39;49;00m\r\n",
        "     \u001b[39;49;00m\u001b[34;01m\"cell_type\"\u001b[39;49;00m:\u001b[39;49;00m \u001b[39;49;00m\u001b[33m\"heading\"\u001b[39;49;00m,\u001b[39;49;00m\r\n",
        "     \u001b[39;49;00m\u001b[34;01m\"level\"\u001b[39;49;00m:\u001b[39;49;00m \u001b[39;49;00m\u001b[34m1\u001b[39;49;00m,\u001b[39;49;00m\r\n",
        "     \u001b[39;49;00m\u001b[34;01m\"metadata\"\u001b[39;49;00m:\u001b[39;49;00m \u001b[39;49;00m{\u001b[39;49;00m\r\n",
        "      \u001b[39;49;00m\u001b[34;01m\"slideshow\"\u001b[39;49;00m:\u001b[39;49;00m \u001b[39;49;00m{\u001b[39;49;00m\r\n",
        "       \u001b[39;49;00m\u001b[34;01m\"slide_type\"\u001b[39;49;00m:\u001b[39;49;00m \u001b[39;49;00m\u001b[33m\"skip\"\u001b[39;49;00m\r\n",
        "      \u001b[39;49;00m}\u001b[39;49;00m\r\n",
        "     \u001b[39;49;00m}\u001b[39;49;00m,\u001b[39;49;00m\r\n",
        "     \u001b[39;49;00m\u001b[34;01m\"source\"\u001b[39;49;00m:\u001b[39;49;00m \u001b[39;49;00m[\u001b[39;49;00m\r\n",
        "      \u001b[39;49;00m\u001b[33m\"Some Background\"\u001b[39;49;00m\r\n",
        "     \u001b[39;49;00m]\u001b[39;49;00m\r\n",
        "    \u001b[39;49;00m}\u001b[39;49;00m,\u001b[39;49;00m\r\n",
        "    \u001b[39;49;00m{\u001b[39;49;00m\r\n",
        "     \u001b[39;49;00m\u001b[34;01m\"cell_type\"\u001b[39;49;00m:\u001b[39;49;00m \u001b[39;49;00m\u001b[33m\"markdown\"\u001b[39;49;00m,\u001b[39;49;00m\r\n",
        "     \u001b[39;49;00m\u001b[34;01m\"metadata\"\u001b[39;49;00m:\u001b[39;49;00m \u001b[39;49;00m{\u001b[39;49;00m\r\n",
        "      \u001b[39;49;00m\u001b[34;01m\"slideshow\"\u001b[39;49;00m:\u001b[39;49;00m \u001b[39;49;00m{\u001b[39;49;00m\r\n",
        "       \u001b[39;49;00m\u001b[34;01m\"slide_type\"\u001b[39;49;00m:\u001b[39;49;00m \u001b[39;49;00m\u001b[33m\"skip\"\u001b[39;49;00m\r\n",
        "      \u001b[39;49;00m}\u001b[39;49;00m\r\n",
        "     \u001b[39;49;00m}\u001b[39;49;00m,\u001b[39;49;00m\r\n",
        "     \u001b[39;49;00m\u001b[34;01m\"source\"\u001b[39;49;00m:\u001b[39;49;00m \u001b[39;49;00m[\u001b[39;49;00m\r\n",
        "      \u001b[39;49;00m\u001b[33m\"Let's start with some background on what IPython is,\\n\"\u001b[39;49;00m,\u001b[39;49;00m\r\n",
        "      \u001b[39;49;00m\u001b[33m\"then we can talk about what parallel IPython is,\\n\"\u001b[39;49;00m,\u001b[39;49;00m\r\n",
        "      \u001b[39;49;00m\u001b[33m\"and why it makes sense.\"\u001b[39;49;00m\r\n",
        "     \u001b[39;49;00m]\u001b[39;49;00m\r\n",
        "    \u001b[39;49;00m}\u001b[39;49;00m,\u001b[39;49;00m\r\n",
        "    \u001b[39;49;00m{\u001b[39;49;00m\r\n",
        "     \u001b[39;49;00m\u001b[34;01m\"cell_type\"\u001b[39;49;00m:\u001b[39;49;00m \u001b[39;49;00m\u001b[33m\"heading\"\u001b[39;49;00m,\u001b[39;49;00m\r\n",
        "     \u001b[39;49;00m\u001b[34;01m\"level\"\u001b[39;49;00m:\u001b[39;49;00m \u001b[39;49;00m\u001b[34m1\u001b[39;49;00m,\u001b[39;49;00m\r\n",
        "     \u001b[39;49;00m\u001b[34;01m\"metadata\"\u001b[39;49;00m:\u001b[39;49;00m \u001b[39;49;00m{\u001b[39;49;00m\r\n",
        "      \u001b[39;49;00m\u001b[34;01m\"slideshow\"\u001b[39;49;00m:\u001b[39;49;00m \u001b[39;49;00m{\u001b[39;49;00m\r\n",
        "       \u001b[39;49;00m\u001b[34;01m\"slide_type\"\u001b[39;49;00m:\u001b[39;49;00m \u001b[39;49;00m\u001b[33m\"slide\"\u001b[39;49;00m\r\n",
        "      \u001b[39;49;00m}\u001b[39;49;00m\r\n",
        "     \u001b[39;49;00m}\u001b[39;49;00m,\u001b[39;49;00m\r\n",
        "     \u001b[39;49;00m\u001b[34;01m\"source\"\u001b[39;49;00m:\u001b[39;49;00m \u001b[39;49;00m[\u001b[39;49;00m\r\n",
        "      \u001b[39;49;00m\u001b[33m\"What is IPython?\"\u001b[39;49;00m\r\n",
        "     \u001b[39;49;00m]\u001b[39;49;00m\r\n",
        "    \u001b[39;49;00m}\u001b[39;49;00m,\u001b[39;49;00m\r\n",
        "    \u001b[39;49;00m{\u001b[39;49;00m\r\n",
        "     \u001b[39;49;00m\u001b[34;01m\"cell_type\"\u001b[39;49;00m:\u001b[39;49;00m \u001b[39;49;00m\u001b[33m\"heading\"\u001b[39;49;00m,\u001b[39;49;00m\r\n",
        "     \u001b[39;49;00m\u001b[34;01m\"level\"\u001b[39;49;00m:\u001b[39;49;00m \u001b[39;49;00m\u001b[34m1\u001b[39;49;00m,\u001b[39;49;00m\r\n",
        "     \u001b[39;49;00m\u001b[34;01m\"metadata\"\u001b[39;49;00m:\u001b[39;49;00m \u001b[39;49;00m{\u001b[39;49;00m\r\n",
        "      \u001b[39;49;00m\u001b[34;01m\"slideshow\"\u001b[39;49;00m:\u001b[39;49;00m \u001b[39;49;00m{\u001b[39;49;00m\r\n",
        "       \u001b[39;49;00m\u001b[34;01m\"slide_type\"\u001b[39;49;00m:\u001b[39;49;00m \u001b[39;49;00m\u001b[33m\"slide\"\u001b[39;49;00m\r\n",
        "      \u001b[39;49;00m}\u001b[39;49;00m\r\n",
        "     \u001b[39;49;00m}\u001b[39;49;00m,\u001b[39;49;00m\r\n",
        "     \u001b[39;49;00m\u001b[34;01m\"source\"\u001b[39;49;00m:\u001b[39;49;00m \u001b[39;49;00m[\u001b[39;49;00m\r\n",
        "      \u001b[39;49;00m\u001b[33m\"Level 0: Interactive Python\"\u001b[39;49;00m\r\n",
        "     \u001b[39;49;00m]\u001b[39;49;00m\r\n",
        "    \u001b[39;49;00m}\u001b[39;49;00m,\u001b[39;49;00m\r\n",
        "    \u001b[39;49;00m{\u001b[39;49;00m\r\n",
        "     \u001b[39;49;00m\u001b[34;01m\"cell_type\"\u001b[39;49;00m:\u001b[39;49;00m \u001b[39;49;00m\u001b[33m\"code\"\u001b[39;49;00m,\u001b[39;49;00m\r\n",
        "     \u001b[39;49;00m\u001b[34;01m\"collapsed\"\u001b[39;49;00m:\u001b[39;49;00m \u001b[39;49;00m\u001b[34mfalse\u001b[39;49;00m,\u001b[39;49;00m\r\n",
        "     \u001b[39;49;00m\u001b[34;01m\"input\"\u001b[39;49;00m:\u001b[39;49;00m \u001b[39;49;00m[\u001b[39;49;00m\r\n",
        "      \u001b[39;49;00m\u001b[33m\"def foo():\\n\"\u001b[39;49;00m,\u001b[39;49;00m\r\n",
        "      \u001b[39;49;00m\u001b[33m\"    \\\"\\\"\\\"docstring\\\"\\\"\\\"\\n\"\u001b[39;49;00m,\u001b[39;49;00m\r\n",
        "      \u001b[39;49;00m\u001b[33m\"    return 'hi'\\n\"\u001b[39;49;00m,\u001b[39;49;00m\r\n",
        "      \u001b[39;49;00m\u001b[33m\"foo()\"\u001b[39;49;00m\r\n",
        "     \u001b[39;49;00m]\u001b[39;49;00m,\u001b[39;49;00m\r\n",
        "     \u001b[39;49;00m\u001b[34;01m\"language\"\u001b[39;49;00m:\u001b[39;49;00m \u001b[39;49;00m\u001b[33m\"python\"\u001b[39;49;00m,\u001b[39;49;00m\r\n",
        "     \u001b[39;49;00m\u001b[34;01m\"metadata\"\u001b[39;49;00m:\u001b[39;49;00m \u001b[39;49;00m{\u001b[39;49;00m}\u001b[39;49;00m,\u001b[39;49;00m\r\n",
        "     \u001b[39;49;00m\u001b[34;01m\"outputs\"\u001b[39;49;00m:\u001b[39;49;00m \u001b[39;49;00m[\u001b[39;49;00m\r\n",
        "      \u001b[39;49;00m{\u001b[39;49;00m\r\n",
        "       \u001b[39;49;00m\u001b[34;01m\"metadata\"\u001b[39;49;00m:\u001b[39;49;00m \u001b[39;49;00m{\u001b[39;49;00m}\u001b[39;49;00m,\u001b[39;49;00m\r\n",
        "       \u001b[39;49;00m\u001b[34;01m\"output_type\"\u001b[39;49;00m:\u001b[39;49;00m \u001b[39;49;00m\u001b[33m\"pyout\"\u001b[39;49;00m,\u001b[39;49;00m\r\n",
        "       \u001b[39;49;00m\u001b[34;01m\"prompt_number\"\u001b[39;49;00m:\u001b[39;49;00m \u001b[39;49;00m\u001b[34m1\u001b[39;49;00m,\u001b[39;49;00m\r\n",
        "       \u001b[39;49;00m\u001b[34;01m\"text\"\u001b[39;49;00m:\u001b[39;49;00m \u001b[39;49;00m[\u001b[39;49;00m\r\n",
        "        \u001b[39;49;00m\u001b[33m\"'hi'\"\u001b[39;49;00m\r\n",
        "       \u001b[39;49;00m]\u001b[39;49;00m\r\n",
        "      \u001b[39;49;00m}\u001b[39;49;00m\r\n",
        "     \u001b[39;49;00m]\u001b[39;49;00m,\u001b[39;49;00m\r\n",
        "     \u001b[39;49;00m\u001b[34;01m\"prompt_number\"\u001b[39;49;00m:\u001b[39;49;00m \u001b[39;49;00m\u001b[34m1\u001b[39;49;00m\r\n",
        "    \u001b[39;49;00m}\u001b[39;49;00m,\u001b[39;49;00m\r\n",
        "    \u001b[39;49;00m{\u001b[39;49;00m\r\n",
        "     \u001b[39;49;00m\u001b[34;01m\"cell_type\"\u001b[39;49;00m:\u001b[39;49;00m \u001b[39;49;00m\u001b[33m\"code\"\u001b[39;49;00m,\u001b[39;49;00m\r\n",
        "     \u001b[39;49;00m\u001b[34;01m\"collapsed\"\u001b[39;49;00m:\u001b[39;49;00m \u001b[39;49;00m\u001b[34mfalse\u001b[39;49;00m,\u001b[39;49;00m\r\n",
        "     \u001b[39;49;00m\u001b[34;01m\"input\"\u001b[39;49;00m:\u001b[39;49;00m \u001b[39;49;00m[\u001b[39;49;00m\r\n",
        "      \u001b[39;49;00m\u001b[33m\"def bar():\\n\"\u001b[39;49;00m,\u001b[39;49;00m\r\n",
        "      \u001b[39;49;00m\u001b[33m\"    print 'hi'\"\u001b[39;49;00m\r\n",
        "     \u001b[39;49;00m]\u001b[39;49;00m,\u001b[39;49;00m\r\n",
        "     \u001b[39;49;00m\u001b[34;01m\"language\"\u001b[39;49;00m:\u001b[39;49;00m \u001b[39;49;00m\u001b[33m\"python\"\u001b[39;49;00m,\u001b[39;49;00m\r\n",
        "     \u001b[39;49;00m\u001b[34;01m\"metadata\"\u001b[39;49;00m:\u001b[39;49;00m \u001b[39;49;00m{\u001b[39;49;00m}\u001b[39;49;00m,\u001b[39;49;00m\r\n",
        "     \u001b[39;49;00m\u001b[34;01m\"outputs\"\u001b[39;49;00m:\u001b[39;49;00m \u001b[39;49;00m[\u001b[39;49;00m]\u001b[39;49;00m,\u001b[39;49;00m\r\n",
        "     \u001b[39;49;00m\u001b[34;01m\"prompt_number\"\u001b[39;49;00m:\u001b[39;49;00m \u001b[39;49;00m\u001b[34m2\u001b[39;49;00m\r\n",
        "    \u001b[39;49;00m}\u001b[39;49;00m,\u001b[39;49;00m\r\n",
        "    \u001b[39;49;00m{\u001b[39;49;00m\r\n",
        "     \u001b[39;49;00m\u001b[34;01m\"cell_type\"\u001b[39;49;00m:\u001b[39;49;00m \u001b[39;49;00m\u001b[33m\"code\"\u001b[39;49;00m,\u001b[39;49;00m\r\n",
        "     \u001b[39;49;00m\u001b[34;01m\"collapsed\"\u001b[39;49;00m:\u001b[39;49;00m \u001b[39;49;00m\u001b[34mfalse\u001b[39;49;00m,\u001b[39;49;00m\r\n",
        "     \u001b[39;49;00m\u001b[34;01m\"input\"\u001b[39;49;00m:\u001b[39;49;00m \u001b[39;49;00m[\u001b[39;49;00m\r\n",
        "      \u001b[39;49;00m\u001b[33m\"from __future__ import print_function\\n\"\u001b[39;49;00m,\u001b[39;49;00m\r\n",
        "      \u001b[39;49;00m\u001b[33m\"\\n\"\u001b[39;49;00m,\u001b[39;49;00m\r\n",
        "      \u001b[39;49;00m\u001b[33m\"import time\\n\"\u001b[39;49;00m,\u001b[39;49;00m\r\n"
       ]
      }
     ],
     "prompt_number": 29
    },
    {
     "cell_type": "code",
     "collapsed": false,
     "input": [
      "!ipython nbconvert {name}.ipynb --to html\n",
      "!open `pwd`/{name}.html"
     ],
     "language": "python",
     "metadata": {},
     "outputs": [
      {
       "output_type": "stream",
       "stream": "stdout",
       "text": [
        "[NbConvertApp] Using existing profile dir: u'/Users/minrk/.ipython/profile_default'\r\n"
       ]
      },
      {
       "output_type": "stream",
       "stream": "stdout",
       "text": [
        "[NbConvertApp] Converting notebook Background.ipynb to html\r\n",
        "[NbConvertApp] Support files will be in Background_files/\r\n"
       ]
      },
      {
       "output_type": "stream",
       "stream": "stdout",
       "text": [
        "[NbConvertApp] Loaded template full.tpl\r\n"
       ]
      },
      {
       "output_type": "stream",
       "stream": "stdout",
       "text": [
        "[NbConvertApp] Writing 431021 bytes to Background.html\r\n"
       ]
      }
     ],
     "prompt_number": 30
    },
    {
     "cell_type": "heading",
     "level": 1,
     "metadata": {
      "slideshow": {
       "slide_type": "slide"
      }
     },
     "source": [
      "But what is IPython, *really*?"
     ]
    },
    {
     "cell_type": "markdown",
     "metadata": {},
     "source": [
      "[*A Protocol*](http://ipython.org/ipython-doc/dev/development/messaging.html)\n",
      "\n",
      "Message type: `execute_request`\n",
      "\n",
      "```python\n",
      "content = {\n",
      "    # Source code to be executed by the kernel, one or more lines.\n",
      "    'code' : str,\n",
      "\n",
      "    # A boolean flag which, if True, signals the kernel to execute\n",
      "    # this code as quietly as possible.\n",
      "    'silent' : bool,\n",
      "\n",
      "    # A boolean flag which, if True, signals the kernel to populate history\n",
      "    # The default is True if silent is False.  If silent is True, store_history\n",
      "    # is forced to be False.\n",
      "    'store_history' : bool,\n",
      "    ...\n",
      "}\n",
      "```"
     ]
    },
    {
     "cell_type": "markdown",
     "metadata": {},
     "source": [
      "Message type: `execute_reply`\n",
      "\n",
      "```python\n",
      "content = {\n",
      "  # One of: 'ok' OR 'error'\n",
      "  'status' : str,\n",
      "\n",
      "  # The global kernel counter that increases by one with each request that\n",
      "  # stores history.  This will typically be used by clients to display\n",
      "  # prompt numbers to the user.  If the request did not store history, this will\n",
      "  # be the current value of the counter in the kernel.\n",
      "  'execution_count' : int,\n",
      "}\n",
      "```"
     ]
    },
    {
     "cell_type": "markdown",
     "metadata": {},
     "source": [
      "Message type: `display_data`\n",
      "\n",
      "```python\n",
      "content = {\n",
      "\n",
      "    # Who create the data\n",
      "    'source' : str,\n",
      "\n",
      "    # The data dict contains key/value pairs, where the kids are MIME\n",
      "    # types and the values are the raw data of the representation in that\n",
      "    # format.\n",
      "    'data' : dict,\n",
      "\n",
      "    # Any metadata that describes the data\n",
      "    'metadata' : dict,\n",
      "}\n",
      "```"
     ]
    },
    {
     "cell_type": "code",
     "collapsed": false,
     "input": [
      "%%javascript\n",
      "IPython.notebook.session.kernel.execute(\"a=10\");"
     ],
     "language": "python",
     "metadata": {},
     "outputs": [
      {
       "javascript": [
        "IPython.notebook.session.kernel.execute(\"a=10\");"
       ],
       "metadata": {},
       "output_type": "display_data",
       "text": [
        "<IPython.core.display.Javascript at 0x10d79f350>"
       ]
      }
     ],
     "prompt_number": 33
    },
    {
     "cell_type": "code",
     "collapsed": false,
     "input": [
      "print(a)"
     ],
     "language": "python",
     "metadata": {},
     "outputs": [
      {
       "output_type": "stream",
       "stream": "stdout",
       "text": [
        "10\n"
       ]
      }
     ],
     "prompt_number": 35
    },
    {
     "cell_type": "markdown",
     "metadata": {},
     "source": [
      "The protocol is [publicly documented](http://ipython.org/ipython-doc/dev/development/messaging.html), and [language agnostic TODO: LINK]().\n"
     ]
    },
    {
     "cell_type": "heading",
     "level": 2,
     "metadata": {},
     "source": [
      "So what is IPython, really?"
     ]
    },
    {
     "cell_type": "markdown",
     "metadata": {},
     "source": [
      "- Tools for interactive computing\n",
      "  - documents\n",
      "  - interfaces\n",
      "    - terminal\n",
      "    - qtconsole\n",
      "    - notebook\n",
      "  - introspection\n",
      "  - debugging\n",
      "- A message protocol for remote execution\n",
      "  - language-agnostic\n",
      "  - rich remote repl"
     ]
    },
    {
     "cell_type": "heading",
     "level": 2,
     "metadata": {},
     "source": [
      "How does this become IPython.parallel?"
     ]
    },
    {
     "cell_type": "markdown",
     "metadata": {},
     "source": [
      "Let's [find out](Overview%20and%20getting%20started.ipynb)."
     ]
    }
   ],
   "metadata": {}
  }
 ]
}