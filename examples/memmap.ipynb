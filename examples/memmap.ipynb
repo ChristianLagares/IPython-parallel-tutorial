{
 "metadata": {
  "name": "",
  "signature": "sha256:4d574eb0b901272defc18407b6c2778758c8ff7928b94db62126a8fde423afcd"
 },
 "nbformat": 3,
 "nbformat_minor": 0,
 "worksheets": [
  {
   "cells": [
    {
     "cell_type": "code",
     "collapsed": false,
     "input": [
      "import socket\n",
      "import os, sys, re\n",
      "\n",
      "import numpy as np\n",
      "\n",
      "from IPython import parallel"
     ],
     "language": "python",
     "metadata": {},
     "outputs": [],
     "prompt_number": 56
    },
    {
     "cell_type": "code",
     "collapsed": false,
     "input": [
      "rc = parallel.Client(profile='dirac')\n",
      "eall = rc[:]"
     ],
     "language": "python",
     "metadata": {},
     "outputs": [],
     "prompt_number": 57
    },
    {
     "cell_type": "code",
     "collapsed": false,
     "input": [
      "engine_hosts = eall.apply_async(socket.gethostname).get_dict()\n",
      "engine_hosts"
     ],
     "language": "python",
     "metadata": {},
     "outputs": [
      {
       "metadata": {},
       "output_type": "pyout",
       "prompt_number": 58,
       "text": [
        "{0: 'csm-dirac-6a',\n",
        " 1: 'csm-dirac-6a',\n",
        " 2: 'csm-dirac-6a',\n",
        " 3: 'csm-dirac-6a',\n",
        " 4: 'csm-dirac-2a',\n",
        " 5: 'csm-dirac-2a',\n",
        " 6: 'csm-dirac-2a',\n",
        " 7: 'csm-dirac-2a',\n",
        " 8: 'csm-dirac-2a',\n",
        " 9: 'csm-dirac-2a',\n",
        " 10: 'csm-dirac-2a',\n",
        " 11: 'csm-dirac-2a',\n",
        " 12: 'csm-dirac-2a',\n",
        " 13: 'csm-dirac-2a',\n",
        " 14: 'csm-dirac-2a',\n",
        " 15: 'csm-dirac-2a',\n",
        " 16: 'csm-dirac-1a',\n",
        " 17: 'csm-dirac-4a',\n",
        " 18: 'csm-dirac-1a',\n",
        " 19: 'csm-dirac-1a',\n",
        " 20: 'csm-dirac-4a',\n",
        " 21: 'csm-dirac-1a',\n",
        " 22: 'csm-dirac-1a',\n",
        " 23: 'csm-dirac-5a',\n",
        " 24: 'csm-dirac-5a',\n",
        " 25: 'csm-dirac-4a',\n",
        " 26: 'csm-dirac-1a',\n",
        " 27: 'csm-dirac-4a',\n",
        " 28: 'csm-dirac-5a',\n",
        " 29: 'csm-dirac-5a',\n",
        " 30: 'csm-dirac-1a',\n",
        " 31: 'csm-dirac-5a',\n",
        " 32: 'csm-dirac-1a',\n",
        " 33: 'csm-dirac-5a',\n",
        " 34: 'csm-dirac-5a',\n",
        " 35: 'csm-dirac-5a',\n",
        " 36: 'csm-dirac-1a',\n",
        " 37: 'csm-dirac-1a',\n",
        " 38: 'csm-dirac-1a',\n",
        " 39: 'csm-dirac-1a',\n",
        " 40: 'csm-dirac-5a',\n",
        " 41: 'csm-dirac-5a',\n",
        " 42: 'csm-dirac-5a',\n",
        " 43: 'csm-dirac-5a',\n",
        " 44: 'csm-dirac-4a',\n",
        " 45: 'csm-dirac-4a',\n",
        " 46: 'csm-dirac-4a',\n",
        " 47: 'csm-dirac-4a',\n",
        " 48: 'csm-dirac-4a',\n",
        " 49: 'csm-dirac-4a',\n",
        " 50: 'csm-dirac-4a',\n",
        " 51: 'csm-dirac-4a',\n",
        " 52: 'csm-dirac-3a',\n",
        " 53: 'csm-dirac-3a',\n",
        " 54: 'csm-dirac-3a',\n",
        " 55: 'csm-dirac-3a',\n",
        " 56: 'csm-dirac-3a',\n",
        " 57: 'csm-dirac-3a',\n",
        " 58: 'csm-dirac-3a',\n",
        " 59: 'csm-dirac-3a',\n",
        " 60: 'csm-dirac-3a',\n",
        " 61: 'csm-dirac-3a',\n",
        " 62: 'csm-dirac-3a',\n",
        " 63: 'csm-dirac-3a'}"
       ]
      }
     ],
     "prompt_number": 58
    },
    {
     "cell_type": "code",
     "collapsed": false,
     "input": [
      "host_engines = {}\n",
      "\n",
      "for eid, host in engine_hosts.items():\n",
      "    if host not in host_engines:\n",
      "        host_engines[host] = []\n",
      "    host_engines[host].append(eid)\n",
      "\n",
      "host_engines"
     ],
     "language": "python",
     "metadata": {},
     "outputs": [
      {
       "metadata": {},
       "output_type": "pyout",
       "prompt_number": 59,
       "text": [
        "{'csm-dirac-1a': [16, 18, 19, 21, 22, 26, 30, 32, 36, 37, 38, 39],\n",
        " 'csm-dirac-2a': [4, 5, 6, 7, 8, 9, 10, 11, 12, 13, 14, 15],\n",
        " 'csm-dirac-3a': [52, 53, 54, 55, 56, 57, 58, 59, 60, 61, 62, 63],\n",
        " 'csm-dirac-4a': [17, 20, 25, 27, 44, 45, 46, 47, 48, 49, 50, 51],\n",
        " 'csm-dirac-5a': [23, 24, 28, 29, 31, 33, 34, 35, 40, 41, 42, 43],\n",
        " 'csm-dirac-6a': [0, 1, 2, 3]}"
       ]
      }
     ],
     "prompt_number": 59
    },
    {
     "cell_type": "code",
     "collapsed": false,
     "input": [
      "data = np.random.random((100,100))\n",
      "data = data.dot(data.T)"
     ],
     "language": "python",
     "metadata": {},
     "outputs": [],
     "prompt_number": 61
    },
    {
     "cell_type": "code",
     "collapsed": false,
     "input": [
      "%time _ = rc[:].apply_sync(lambda : None)"
     ],
     "language": "python",
     "metadata": {},
     "outputs": [
      {
       "output_type": "stream",
       "stream": "stdout",
       "text": [
        "CPU times: user 122 ms, sys: 16.6 ms, total: 139 ms\n",
        "Wall time: 203 ms\n"
       ]
      }
     ],
     "prompt_number": 65
    },
    {
     "cell_type": "code",
     "collapsed": false,
     "input": [
      "%time _ = rc[:].push({'data': data}, block=True)"
     ],
     "language": "python",
     "metadata": {},
     "outputs": [
      {
       "output_type": "stream",
       "stream": "stdout",
       "text": [
        "CPU times: user 867 ms, sys: 337 ms, total: 1.2 s\n",
        "Wall time: 3.99 s\n"
       ]
      }
     ],
     "prompt_number": 66
    },
    {
     "cell_type": "code",
     "collapsed": false,
     "input": [
      "%px import numpy as np"
     ],
     "language": "python",
     "metadata": {},
     "outputs": [],
     "prompt_number": 67
    },
    {
     "cell_type": "code",
     "collapsed": false,
     "input": [
      "def array_to_file(A):\n",
      "    \"\"\"write an array to a file, return its filename\"\"\"\n",
      "    import tempfile\n",
      "    with tempfile.NamedTemporaryFile(suffix='.np', delete=False) as tf:\n",
      "        np.save(tf, data)\n",
      "        data_path = tf.name\n",
      "    return data_path"
     ],
     "language": "python",
     "metadata": {},
     "outputs": [],
     "prompt_number": 68
    },
    {
     "cell_type": "code",
     "collapsed": false,
     "input": [
      "@parallel.interactive\n",
      "def load_memmap(name, path, mode='r+'):\n",
      "    \"\"\"load a file on disk into the interactive namespace as a memmapped array\"\"\"\n",
      "    globals()[name] = np.memmap(path, mode=mode)"
     ],
     "language": "python",
     "metadata": {},
     "outputs": [],
     "prompt_number": 74
    },
    {
     "cell_type": "code",
     "collapsed": false,
     "input": [
      "def push_memmap(data, name, client, host_engines):\n",
      "\n",
      "    # actually push the data, just once to each machine\n",
      "\n",
      "    local_filename = None\n",
      "    filenames_ars = {}\n",
      "    for host, engines in host_engines.items():\n",
      "        h0 = engines[0]\n",
      "        if host == socket.gethostname():\n",
      "            # Don't push at all to local engines\n",
      "            local_filename = array_to_file(data)\n",
      "        else:\n",
      "            filenames_ars[host] = rc[h0].apply_async(array_to_file, data)\n",
      "\n",
      "    # load the data on all engines into a memmapped array\n",
      "    msg_ids = []\n",
      "    for host, engines in host_engines.items():\n",
      "        if host == socket.gethostname():\n",
      "            filename = local_filename\n",
      "        else:\n",
      "            filename = filenames_ars[host].get()\n",
      "        ar = rc[engines].apply_async(load_memmap, name, filename)\n",
      "        msg_ids.extend(ar.msg_ids)\n",
      "    \n",
      "    return parallel.AsyncResult(client, msg_ids=msg_ids)"
     ],
     "language": "python",
     "metadata": {},
     "outputs": [],
     "prompt_number": 77
    },
    {
     "cell_type": "code",
     "collapsed": false,
     "input": [
      "%%time\n",
      "ar = push_memmap(data, 'data', rc, host_engines)\n",
      "ar.wait_interactive()"
     ],
     "language": "python",
     "metadata": {},
     "outputs": [
      {
       "output_type": "stream",
       "stream": "stdout",
       "text": [
        "  64/64 tasks finished after    0 s"
       ]
      },
      {
       "output_type": "stream",
       "stream": "stdout",
       "text": [
        "\n",
        "done\n",
        "CPU times: user 230 ms, sys: 60.4 ms, total: 290 ms\n",
        "Wall time: 850 ms\n"
       ]
      }
     ],
     "prompt_number": 78
    },
    {
     "cell_type": "code",
     "collapsed": false,
     "input": [
      "%px np.linalg.norm(data, 2)"
     ],
     "language": "python",
     "metadata": {},
     "outputs": [
      {
       "metadata": {},
       "output_type": "display_data",
       "text": [
        "\u001b[0;31mOut[0:3]: \u001b[0m2761.6419029265903"
       ]
      },
      {
       "metadata": {},
       "output_type": "display_data",
       "text": [
        "\u001b[0;31mOut[1:3]: \u001b[0m2761.6419029265903"
       ]
      },
      {
       "metadata": {},
       "output_type": "display_data",
       "text": [
        "\u001b[0;31mOut[2:3]: \u001b[0m2761.6419029265903"
       ]
      },
      {
       "metadata": {},
       "output_type": "display_data",
       "text": [
        "\u001b[0;31mOut[3:3]: \u001b[0m2761.6419029265903"
       ]
      },
      {
       "metadata": {},
       "output_type": "display_data",
       "text": [
        "\u001b[0;31mOut[4:3]: \u001b[0m2761.6419029265903"
       ]
      },
      {
       "metadata": {},
       "output_type": "display_data",
       "text": [
        "\u001b[0;31mOut[5:3]: \u001b[0m2761.6419029265903"
       ]
      },
      {
       "metadata": {},
       "output_type": "display_data",
       "text": [
        "\u001b[0;31mOut[6:3]: \u001b[0m2761.6419029265903"
       ]
      },
      {
       "metadata": {},
       "output_type": "display_data",
       "text": [
        "\u001b[0;31mOut[7:3]: \u001b[0m2761.6419029265903"
       ]
      },
      {
       "metadata": {},
       "output_type": "display_data",
       "text": [
        "\u001b[0;31mOut[8:3]: \u001b[0m2761.6419029265903"
       ]
      },
      {
       "metadata": {},
       "output_type": "display_data",
       "text": [
        "\u001b[0;31mOut[9:3]: \u001b[0m2761.6419029265903"
       ]
      },
      {
       "metadata": {},
       "output_type": "display_data",
       "text": [
        "\u001b[0;31mOut[10:3]: \u001b[0m2761.6419029265903"
       ]
      },
      {
       "metadata": {},
       "output_type": "display_data",
       "text": [
        "\u001b[0;31mOut[11:3]: \u001b[0m2761.6419029265903"
       ]
      },
      {
       "metadata": {},
       "output_type": "display_data",
       "text": [
        "\u001b[0;31mOut[12:3]: \u001b[0m2761.6419029265903"
       ]
      },
      {
       "metadata": {},
       "output_type": "display_data",
       "text": [
        "\u001b[0;31mOut[13:3]: \u001b[0m2761.6419029265903"
       ]
      },
      {
       "metadata": {},
       "output_type": "display_data",
       "text": [
        "\u001b[0;31mOut[14:3]: \u001b[0m2761.6419029265903"
       ]
      },
      {
       "metadata": {},
       "output_type": "display_data",
       "text": [
        "\u001b[0;31mOut[15:3]: \u001b[0m2761.6419029265903"
       ]
      },
      {
       "metadata": {},
       "output_type": "display_data",
       "text": [
        "\u001b[0;31mOut[16:3]: \u001b[0m2761.6419029265903"
       ]
      },
      {
       "metadata": {},
       "output_type": "display_data",
       "text": [
        "\u001b[0;31mOut[17:3]: \u001b[0m2761.6419029265903"
       ]
      },
      {
       "metadata": {},
       "output_type": "display_data",
       "text": [
        "\u001b[0;31mOut[18:3]: \u001b[0m2761.6419029265903"
       ]
      },
      {
       "metadata": {},
       "output_type": "display_data",
       "text": [
        "\u001b[0;31mOut[19:3]: \u001b[0m2761.6419029265903"
       ]
      },
      {
       "metadata": {},
       "output_type": "display_data",
       "text": [
        "\u001b[0;31mOut[20:3]: \u001b[0m2761.6419029265903"
       ]
      },
      {
       "metadata": {},
       "output_type": "display_data",
       "text": [
        "\u001b[0;31mOut[21:3]: \u001b[0m2761.6419029265903"
       ]
      },
      {
       "metadata": {},
       "output_type": "display_data",
       "text": [
        "\u001b[0;31mOut[22:3]: \u001b[0m2761.6419029265903"
       ]
      },
      {
       "metadata": {},
       "output_type": "display_data",
       "text": [
        "\u001b[0;31mOut[23:3]: \u001b[0m2761.6419029265903"
       ]
      },
      {
       "metadata": {},
       "output_type": "display_data",
       "text": [
        "\u001b[0;31mOut[24:3]: \u001b[0m2761.6419029265903"
       ]
      },
      {
       "metadata": {},
       "output_type": "display_data",
       "text": [
        "\u001b[0;31mOut[25:3]: \u001b[0m2761.6419029265903"
       ]
      },
      {
       "metadata": {},
       "output_type": "display_data",
       "text": [
        "\u001b[0;31mOut[26:3]: \u001b[0m2761.6419029265903"
       ]
      },
      {
       "metadata": {},
       "output_type": "display_data",
       "text": [
        "\u001b[0;31mOut[27:3]: \u001b[0m2761.6419029265903"
       ]
      },
      {
       "metadata": {},
       "output_type": "display_data",
       "text": [
        "\u001b[0;31mOut[28:3]: \u001b[0m2761.6419029265903"
       ]
      },
      {
       "metadata": {},
       "output_type": "display_data",
       "text": [
        "\u001b[0;31mOut[29:3]: \u001b[0m2761.6419029265903"
       ]
      },
      {
       "metadata": {},
       "output_type": "display_data",
       "text": [
        "\u001b[0;31mOut[30:3]: \u001b[0m2761.6419029265903"
       ]
      },
      {
       "metadata": {},
       "output_type": "display_data",
       "text": [
        "\u001b[0;31mOut[31:3]: \u001b[0m2761.6419029265903"
       ]
      },
      {
       "metadata": {},
       "output_type": "display_data",
       "text": [
        "\u001b[0;31mOut[32:3]: \u001b[0m2761.6419029265903"
       ]
      },
      {
       "metadata": {},
       "output_type": "display_data",
       "text": [
        "\u001b[0;31mOut[33:3]: \u001b[0m2761.6419029265903"
       ]
      },
      {
       "metadata": {},
       "output_type": "display_data",
       "text": [
        "\u001b[0;31mOut[34:3]: \u001b[0m2761.6419029265903"
       ]
      },
      {
       "metadata": {},
       "output_type": "display_data",
       "text": [
        "\u001b[0;31mOut[35:3]: \u001b[0m2761.6419029265903"
       ]
      },
      {
       "metadata": {},
       "output_type": "display_data",
       "text": [
        "\u001b[0;31mOut[36:3]: \u001b[0m2761.6419029265903"
       ]
      },
      {
       "metadata": {},
       "output_type": "display_data",
       "text": [
        "\u001b[0;31mOut[37:3]: \u001b[0m2761.6419029265903"
       ]
      },
      {
       "metadata": {},
       "output_type": "display_data",
       "text": [
        "\u001b[0;31mOut[38:3]: \u001b[0m2761.6419029265903"
       ]
      },
      {
       "metadata": {},
       "output_type": "display_data",
       "text": [
        "\u001b[0;31mOut[39:3]: \u001b[0m2761.6419029265903"
       ]
      },
      {
       "metadata": {},
       "output_type": "display_data",
       "text": [
        "\u001b[0;31mOut[40:3]: \u001b[0m2761.6419029265903"
       ]
      },
      {
       "metadata": {},
       "output_type": "display_data",
       "text": [
        "\u001b[0;31mOut[41:3]: \u001b[0m2761.6419029265903"
       ]
      },
      {
       "metadata": {},
       "output_type": "display_data",
       "text": [
        "\u001b[0;31mOut[42:3]: \u001b[0m2761.6419029265903"
       ]
      },
      {
       "metadata": {},
       "output_type": "display_data",
       "text": [
        "\u001b[0;31mOut[43:3]: \u001b[0m2761.6419029265903"
       ]
      },
      {
       "metadata": {},
       "output_type": "display_data",
       "text": [
        "\u001b[0;31mOut[44:3]: \u001b[0m2761.6419029265903"
       ]
      },
      {
       "metadata": {},
       "output_type": "display_data",
       "text": [
        "\u001b[0;31mOut[45:3]: \u001b[0m2761.6419029265903"
       ]
      },
      {
       "metadata": {},
       "output_type": "display_data",
       "text": [
        "\u001b[0;31mOut[46:3]: \u001b[0m2761.6419029265903"
       ]
      },
      {
       "metadata": {},
       "output_type": "display_data",
       "text": [
        "\u001b[0;31mOut[47:3]: \u001b[0m2761.6419029265903"
       ]
      },
      {
       "metadata": {},
       "output_type": "display_data",
       "text": [
        "\u001b[0;31mOut[48:3]: \u001b[0m2761.6419029265903"
       ]
      },
      {
       "metadata": {},
       "output_type": "display_data",
       "text": [
        "\u001b[0;31mOut[49:3]: \u001b[0m2761.6419029265903"
       ]
      },
      {
       "metadata": {},
       "output_type": "display_data",
       "text": [
        "\u001b[0;31mOut[50:3]: \u001b[0m2761.6419029265903"
       ]
      },
      {
       "metadata": {},
       "output_type": "display_data",
       "text": [
        "\u001b[0;31mOut[51:3]: \u001b[0m2761.6419029265903"
       ]
      },
      {
       "metadata": {},
       "output_type": "display_data",
       "text": [
        "\u001b[0;31mOut[52:3]: \u001b[0m2761.6419029265903"
       ]
      },
      {
       "metadata": {},
       "output_type": "display_data",
       "text": [
        "\u001b[0;31mOut[53:3]: \u001b[0m2761.6419029265903"
       ]
      },
      {
       "metadata": {},
       "output_type": "display_data",
       "text": [
        "\u001b[0;31mOut[54:3]: \u001b[0m2761.6419029265903"
       ]
      },
      {
       "metadata": {},
       "output_type": "display_data",
       "text": [
        "\u001b[0;31mOut[55:3]: \u001b[0m2761.6419029265903"
       ]
      },
      {
       "metadata": {},
       "output_type": "display_data",
       "text": [
        "\u001b[0;31mOut[56:3]: \u001b[0m2761.6419029265903"
       ]
      },
      {
       "metadata": {},
       "output_type": "display_data",
       "text": [
        "\u001b[0;31mOut[57:3]: \u001b[0m2761.6419029265903"
       ]
      },
      {
       "metadata": {},
       "output_type": "display_data",
       "text": [
        "\u001b[0;31mOut[58:3]: \u001b[0m2761.6419029265903"
       ]
      },
      {
       "metadata": {},
       "output_type": "display_data",
       "text": [
        "\u001b[0;31mOut[59:3]: \u001b[0m2761.6419029265903"
       ]
      },
      {
       "metadata": {},
       "output_type": "display_data",
       "text": [
        "\u001b[0;31mOut[60:3]: \u001b[0m2761.6419029265903"
       ]
      },
      {
       "metadata": {},
       "output_type": "display_data",
       "text": [
        "\u001b[0;31mOut[61:3]: \u001b[0m2761.6419029265903"
       ]
      },
      {
       "metadata": {},
       "output_type": "display_data",
       "text": [
        "\u001b[0;31mOut[62:3]: \u001b[0m2761.6419029265903"
       ]
      },
      {
       "metadata": {},
       "output_type": "display_data",
       "text": [
        "\u001b[0;31mOut[63:3]: \u001b[0m2761.6419029265903"
       ]
      }
     ],
     "prompt_number": 79
    },
    {
     "cell_type": "heading",
     "level": 2,
     "metadata": {},
     "source": [
      "Broadcasting with MPI"
     ]
    },
    {
     "cell_type": "code",
     "collapsed": false,
     "input": [],
     "language": "python",
     "metadata": {},
     "outputs": []
    },
    {
     "cell_type": "code",
     "collapsed": false,
     "input": [
      "def push_bcast(data, name, client, host_engines):\n",
      "\n",
      "    # actually push the data, just once to each machine\n",
      "\n",
      "    local_filename = None\n",
      "    filenames_ars = {}\n",
      "    for host, engines in host_engines.items():\n",
      "        h0 = engines[0]\n",
      "        if host == socket.gethostname():\n",
      "            # Don't push at all to local engines\n",
      "            local_filename = array_to_file(data)\n",
      "        else:\n",
      "            filenames_ars[host] = rc[h0].apply_async(array_to_file, data)\n",
      "\n",
      "    # load the data on all engines into a memmapped array\n",
      "    msg_ids = []\n",
      "    for host, engines in host_engines.items():\n",
      "        if host == socket.gethostname():\n",
      "            filename = local_filename\n",
      "        else:\n",
      "            filename = filenames_ars[host].get()\n",
      "        ar = rc[engines].apply_async(load_memmap, name, filename)\n",
      "        msg_ids.extend(ar.msg_ids)\n",
      "    \n",
      "    return parallel.AsyncResult(client, msg_ids=msg_ids)"
     ],
     "language": "python",
     "metadata": {},
     "outputs": []
    }
   ],
   "metadata": {}
  }
 ]
}