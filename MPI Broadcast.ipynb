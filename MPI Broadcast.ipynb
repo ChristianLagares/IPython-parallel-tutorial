{
 "metadata": {
  "name": "",
  "signature": "sha256:5e75fe6b766666584da6e8c8ba3e8ebd0f7057f9eb593b0ba8a8e0a031e2af94"
 },
 "nbformat": 3,
 "nbformat_minor": 0,
 "worksheets": [
  {
   "cells": [
    {
     "cell_type": "code",
     "collapsed": false,
     "input": [
      "import socket\n",
      "import os, sys, re\n",
      "\n",
      "import numpy as np\n",
      "\n",
      "from IPython import parallel"
     ],
     "language": "python",
     "metadata": {},
     "outputs": [],
     "prompt_number": 1
    },
    {
     "cell_type": "code",
     "collapsed": false,
     "input": [
      "mpi_profile = 'dirac'\n",
      "rc = parallel.Client(profile=mpi_profile)\n",
      "eall = rc[:]\n",
      "root = rc[-1]"
     ],
     "language": "python",
     "metadata": {},
     "outputs": [],
     "prompt_number": 2
    },
    {
     "cell_type": "code",
     "collapsed": false,
     "input": [
      "%px from mpi4py.MPI import COMM_WORLD as MPI"
     ],
     "language": "python",
     "metadata": {},
     "outputs": [],
     "prompt_number": 6
    },
    {
     "cell_type": "code",
     "collapsed": false,
     "input": [
      "mpi_ranks = eall.apply_async(lambda : MPI.Get_rank()).get_dict()\n",
      "root_rank = root.apply_sync(lambda : MPI.Get_rank())\n",
      "mpi_ranks"
     ],
     "language": "python",
     "metadata": {},
     "outputs": [
      {
       "metadata": {},
       "output_type": "pyout",
       "prompt_number": 13,
       "text": [
        "{0: 62,\n",
        " 1: 63,\n",
        " 2: 60,\n",
        " 3: 61,\n",
        " 4: 13,\n",
        " 5: 22,\n",
        " 6: 21,\n",
        " 7: 19,\n",
        " 8: 17,\n",
        " 9: 15,\n",
        " 10: 14,\n",
        " 11: 16,\n",
        " 12: 23,\n",
        " 13: 18,\n",
        " 14: 20,\n",
        " 15: 12,\n",
        " 16: 0,\n",
        " 17: 46,\n",
        " 18: 3,\n",
        " 19: 1,\n",
        " 20: 39,\n",
        " 21: 2,\n",
        " 22: 8,\n",
        " 23: 58,\n",
        " 24: 55,\n",
        " 25: 40,\n",
        " 26: 9,\n",
        " 27: 41,\n",
        " 28: 51,\n",
        " 29: 48,\n",
        " 30: 11,\n",
        " 31: 50,\n",
        " 32: 7,\n",
        " 33: 52,\n",
        " 34: 53,\n",
        " 35: 54,\n",
        " 36: 10,\n",
        " 37: 6,\n",
        " 38: 4,\n",
        " 39: 5,\n",
        " 40: 56,\n",
        " 41: 49,\n",
        " 42: 57,\n",
        " 43: 59,\n",
        " 44: 36,\n",
        " 45: 47,\n",
        " 46: 45,\n",
        " 47: 43,\n",
        " 48: 38,\n",
        " 49: 44,\n",
        " 50: 37,\n",
        " 51: 42,\n",
        " 52: 25,\n",
        " 53: 24,\n",
        " 54: 31,\n",
        " 55: 28,\n",
        " 56: 26,\n",
        " 57: 27,\n",
        " 58: 30,\n",
        " 59: 35,\n",
        " 60: 33,\n",
        " 61: 29,\n",
        " 62: 34,\n",
        " 63: 32}"
       ]
      }
     ],
     "prompt_number": 13
    },
    {
     "cell_type": "code",
     "collapsed": false,
     "input": [
      "sz = 1000\n",
      "data = np.random.random((sz, sz))\n",
      "data = data.dot(data.T)"
     ],
     "language": "python",
     "metadata": {},
     "outputs": [],
     "prompt_number": 19
    },
    {
     "cell_type": "code",
     "collapsed": false,
     "input": [
      "%%time \n",
      "ar = eall.push({'data': data}, block=False)\n",
      "ar.wait_interactive()"
     ],
     "language": "python",
     "metadata": {},
     "outputs": [
      {
       "output_type": "stream",
       "stream": "stdout",
       "text": [
        "  64/64 tasks finished after  358 s"
       ]
      },
      {
       "output_type": "stream",
       "stream": "stdout",
       "text": [
        "\n",
        "done\n",
        "CPU times: user 1min 2s, sys: 16.7 s, total: 1min 18s\n",
        "Wall time: 5min 58s\n"
       ]
      }
     ],
     "prompt_number": 21
    },
    {
     "cell_type": "code",
     "collapsed": false,
     "input": [
      "@parallel.interactive\n",
      "def _bcast(key, root_rank):\n",
      "    \"\"\"function to run on engines as part of broadcast\"\"\"\n",
      "    g = globals()\n",
      "    obj = g.get(key, None)\n",
      "    obj = MPI.bcast(obj, root_rank)\n",
      "    g[key] = obj\n",
      "\n",
      "def broadcast(key, obj, dv, root, root_rank):\n",
      "    \"\"\"More efficient broadcast by doing push to root,\n",
      "    and MPI broadcast to other engines.\n",
      "    \n",
      "    Still O(N) messages, but all but one message is always small.\n",
      "    \"\"\"\n",
      "    root.push({key : obj}, block=False)\n",
      "    return dv.apply_async(_bcast, key, root_rank)"
     ],
     "language": "python",
     "metadata": {},
     "outputs": [],
     "prompt_number": 15
    },
    {
     "cell_type": "code",
     "collapsed": false,
     "input": [
      "%%time\n",
      "ar = broadcast('data', data, eall, root, root_rank)\n",
      "ar.wait_interactive()"
     ],
     "language": "python",
     "metadata": {},
     "outputs": [
      {
       "output_type": "stream",
       "stream": "stdout",
       "text": [
        "  64/64 tasks finished after    6 s"
       ]
      },
      {
       "output_type": "stream",
       "stream": "stdout",
       "text": [
        "\n",
        "done\n",
        "CPU times: user 1.26 s, sys: 321 ms, total: 1.58 s\n",
        "Wall time: 6.45 s\n"
       ]
      }
     ],
     "prompt_number": 20
    },
    {
     "cell_type": "code",
     "collapsed": false,
     "input": [
      "eall.apply_sync(np.linalg.norm, parallel.Reference('data'), 2)"
     ],
     "language": "python",
     "metadata": {},
     "outputs": [
      {
       "metadata": {},
       "output_type": "pyout",
       "prompt_number": 18,
       "text": [
        "[2588.6639676976706,\n",
        " 2588.6639676976706,\n",
        " 2588.6639676976706,\n",
        " 2588.6639676976706,\n",
        " 2588.6639676976706,\n",
        " 2588.6639676976706,\n",
        " 2588.6639676976706,\n",
        " 2588.6639676976706,\n",
        " 2588.6639676976706,\n",
        " 2588.6639676976706,\n",
        " 2588.6639676976706,\n",
        " 2588.6639676976706,\n",
        " 2588.6639676976706,\n",
        " 2588.6639676976706,\n",
        " 2588.6639676976706,\n",
        " 2588.6639676976706,\n",
        " 2588.6639676976706,\n",
        " 2588.6639676976706,\n",
        " 2588.6639676976706,\n",
        " 2588.6639676976706,\n",
        " 2588.6639676976706,\n",
        " 2588.6639676976706,\n",
        " 2588.6639676976706,\n",
        " 2588.6639676976706,\n",
        " 2588.6639676976706,\n",
        " 2588.6639676976706,\n",
        " 2588.6639676976706,\n",
        " 2588.6639676976706,\n",
        " 2588.6639676976706,\n",
        " 2588.6639676976706,\n",
        " 2588.6639676976706,\n",
        " 2588.6639676976706,\n",
        " 2588.6639676976706,\n",
        " 2588.6639676976706,\n",
        " 2588.6639676976706,\n",
        " 2588.6639676976706,\n",
        " 2588.6639676976706,\n",
        " 2588.6639676976706,\n",
        " 2588.6639676976706,\n",
        " 2588.6639676976706,\n",
        " 2588.6639676976706,\n",
        " 2588.6639676976706,\n",
        " 2588.6639676976706,\n",
        " 2588.6639676976706,\n",
        " 2588.6639676976706,\n",
        " 2588.6639676976706,\n",
        " 2588.6639676976706,\n",
        " 2588.6639676976706,\n",
        " 2588.6639676976706,\n",
        " 2588.6639676976706,\n",
        " 2588.6639676976706,\n",
        " 2588.6639676976706,\n",
        " 2588.6639676976706,\n",
        " 2588.6639676976706,\n",
        " 2588.6639676976706,\n",
        " 2588.6639676976706,\n",
        " 2588.6639676976706,\n",
        " 2588.6639676976706,\n",
        " 2588.6639676976706,\n",
        " 2588.6639676976706,\n",
        " 2588.6639676976706,\n",
        " 2588.6639676976706,\n",
        " 2588.6639676976706,\n",
        " 2588.6639676976706]"
       ]
      }
     ],
     "prompt_number": 18
    },
    {
     "cell_type": "code",
     "collapsed": false,
     "input": [],
     "language": "python",
     "metadata": {},
     "outputs": []
    }
   ],
   "metadata": {}
  }
 ]
}