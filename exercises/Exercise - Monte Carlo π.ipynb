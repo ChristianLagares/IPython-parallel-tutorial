{
 "metadata": {
  "name": "",
  "signature": "sha256:9c0a833d947062fb2bae73328c68f611c17872717130ccc9eeba47ea5592677f"
 },
 "nbformat": 3,
 "nbformat_minor": 0,
 "worksheets": [
  {
   "cells": [
    {
     "cell_type": "markdown",
     "metadata": {},
     "source": [
      "# Multiplexing Exercise - Monte Carlo \u03c0\n",
      "\n",
      "A simple toy problem to get a handle on multiple engines is a Monte\n",
      "Carlo approximation of \u03c0.\n",
      "\n",
      "Let's say we have a dartboard with a round target inscribed on a square\n",
      "board. If you threw darts randomly, and they land evenly distributed on\n",
      "the square board, how many darts would you expect to hit the target?\n",
      "\n",
      "<img src=\"files/figs/darts.png\"/>"
     ]
    },
    {
     "cell_type": "markdown",
     "metadata": {},
     "source": [
      "$$\n",
      "\\frac{A_c}{A_{sq}} = \\frac{\\pi r^2}{(2r)^2} = \\frac{\\pi}{4}\n",
      "$$"
     ]
    },
    {
     "cell_type": "code",
     "collapsed": false,
     "input": [
      "from __future__ import print_function\n",
      "\n",
      "from random import random\n",
      "from math import pi\n",
      "\n",
      "def mcpi(nsamples):\n",
      "    s = 0\n",
      "    for i in range(nsamples):\n",
      "        x = random()\n",
      "        y = random()\n",
      "        if x*x + y*y <= 1:\n",
      "            s+=1\n",
      "    return 4.*s/nsamples"
     ],
     "language": "python",
     "metadata": {},
     "outputs": [],
     "prompt_number": 3
    },
    {
     "cell_type": "code",
     "collapsed": false,
     "input": [
      "for n in [10, 100, 1000, 10000, 100000, 1000000]:\n",
      "    print(\"%8i\" % n, end=' ')\n",
      "    for i in range(3):\n",
      "        print(\"%.5f\" % mcpi(n), end=' ')\n",
      "    print()"
     ],
     "language": "python",
     "metadata": {},
     "outputs": [
      {
       "output_type": "stream",
       "stream": "stdout",
       "text": [
        "      10 3.60000 3.20000 4.00000 \n",
        "     100 2.96000 3.24000 3.04000 \n",
        "    1000 3.06800 3.18000 3.20000 \n",
        "   10000 3.14880 3.15360 3.13760 \n",
        "  100000 3.14456"
       ]
      },
      {
       "output_type": "stream",
       "stream": "stdout",
       "text": [
        " 3.14752 3.13072"
       ]
      },
      {
       "output_type": "stream",
       "stream": "stdout",
       "text": [
        " \n",
        " 1000000 3.14093"
       ]
      },
      {
       "output_type": "stream",
       "stream": "stdout",
       "text": [
        " 3.14268"
       ]
      },
      {
       "output_type": "stream",
       "stream": "stdout",
       "text": [
        " 3.13973"
       ]
      },
      {
       "output_type": "stream",
       "stream": "stdout",
       "text": [
        " \n"
       ]
      }
     ],
     "prompt_number": 4
    },
    {
     "cell_type": "code",
     "collapsed": false,
     "input": [
      "%timeit mcpi(1000000)"
     ],
     "language": "python",
     "metadata": {},
     "outputs": [
      {
       "output_type": "stream",
       "stream": "stdout",
       "text": [
        "1 loops, best of 3: 388 ms per loop\n"
       ]
      }
     ],
     "prompt_number": 5
    },
    {
     "cell_type": "markdown",
     "metadata": {},
     "source": [
      "It takes a lot of samples to get a good approximation. Can you write a\n",
      "function that will use your engines to break up the work?\n",
      "\n",
      "```python\n",
      "def multi_mcpi(dview, nsamples):\n",
      "    raise NotImplementedError(\"you write this\")\n",
      "```"
     ]
    },
    {
     "cell_type": "code",
     "collapsed": false,
     "input": [
      "from IPython import parallel\n",
      "rc = parallel.Client()\n",
      "\n",
      "view = rc[:]"
     ],
     "language": "python",
     "metadata": {},
     "outputs": [],
     "prompt_number": 6
    },
    {
     "cell_type": "code",
     "collapsed": true,
     "input": [
      "%load soln/mcpi.py"
     ],
     "language": "python",
     "metadata": {},
     "outputs": [],
     "prompt_number": 7
    },
    {
     "cell_type": "code",
     "collapsed": false,
     "input": [
      "multi_mcpi(view, 10000000)"
     ],
     "language": "python",
     "metadata": {},
     "outputs": [
      {
       "metadata": {},
       "output_type": "pyout",
       "prompt_number": 10,
       "text": [
        "3.1411995999999998"
       ]
      }
     ],
     "prompt_number": 10
    }
   ],
   "metadata": {}
  }
 ]
}